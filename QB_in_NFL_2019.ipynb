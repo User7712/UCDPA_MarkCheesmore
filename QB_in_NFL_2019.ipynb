{
 "cells": [
  {
   "cell_type": "markdown",
   "id": "0e153873",
   "metadata": {},
   "source": [
    "# Predicting the success of American Football Quarterbacks in the NFL by their physical attributes, as measured in the 'Combine' (a day of physical tests), that they perform prior to being drafted into the league."
   ]
  },
  {
   "cell_type": "markdown",
   "id": "b3726912",
   "metadata": {},
   "source": [
    "### I am looking at the year 2019, so i am starting by pulling all of the data on anyone who through a forward pass during the 2019 season. This is stored on the NFL.com website, split over 4 pages and is their record of performance for the 2019 season only."
   ]
  },
  {
   "cell_type": "markdown",
   "id": "131ec2f6",
   "metadata": {},
   "source": [
    "#### Start by importing the packages needed to run the code\n"
   ]
  },
  {
   "cell_type": "code",
   "execution_count": 1,
   "id": "d5a109df",
   "metadata": {},
   "outputs": [],
   "source": [
    "import pandas as pd\n",
    "import seaborn as sns\n",
    "import matplotlib.pyplot as plt\n",
    "plt.style.use('seaborn')\n",
    "import requests\n",
    "from bs4 import BeautifulSoup as bs\n",
    "import numpy as np"
   ]
  },
  {
   "cell_type": "markdown",
   "id": "112d3e08",
   "metadata": {},
   "source": [
    "#### As there are 4 pages i have defined a function to do this, to save repeating the same clock of code 4 times. "
   ]
  },
  {
   "cell_type": "markdown",
   "id": "9d06b03d",
   "metadata": {},
   "source": [
    "#### Firstly get the URL of the 4 pages"
   ]
  },
  {
   "cell_type": "code",
   "execution_count": 2,
   "id": "93723878",
   "metadata": {},
   "outputs": [],
   "source": [
    "URL_page1 = 'https://www.nfl.com/stats/player-stats/category/passing/2019/POST/all/passingyards/DESC'"
   ]
  },
  {
   "cell_type": "code",
   "execution_count": 3,
   "id": "baff83f9",
   "metadata": {},
   "outputs": [],
   "source": [
    "URL_page2 = 'https://www.nfl.com/stats/player-stats/category/passing/2019/REG/all/passingYards/DESC?aftercursor=0000001900000000008500100079000840a7a000000000006e00000005000000045f74626c00000010706572736f6e5f7465616d5f737461740000000565736249640000000944415234363631343100000004726f6c6500000003504c5900000008736561736f6e496400000004323031390000000a736561736f6e5479706500000003524547f07fffffe6f07fffffe6389bd3f93412939a78c1e6950d620d060004'"
   ]
  },
  {
   "cell_type": "code",
   "execution_count": 4,
   "id": "8e4fbd12",
   "metadata": {},
   "outputs": [],
   "source": [
    "URL_page3 = 'https://www.nfl.com/stats/player-stats/category/passing/2019/REG/all/passingYards/DESC?aftercursor=0000003200000000008500100079000840774000000000006e00000005000000045f74626c00000010706572736f6e5f7465616d5f7374617400000005657362496400000009484f5934343037393100000004726f6c6500000003504c5900000008736561736f6e496400000004323031390000000a736561736f6e5479706500000003524547f07fffffcdf07fffffcde1b4eec7a1741bd5f74fd8fb646123be0004'"
   ]
  },
  {
   "cell_type": "code",
   "execution_count": 5,
   "id": "3292b4be",
   "metadata": {},
   "outputs": [],
   "source": [
    "URL_page4 = 'https://www.nfl.com/stats/player-stats/category/passing/2019/REG/all/passingYards/DESC?aftercursor=0000004b00000000008500100079000840320000000000006e00000005000000045f74626c00000010706572736f6e5f7465616d5f737461740000000565736249640000000947524932393433353100000004726f6c6500000003504c5900000008736561736f6e496400000004323031390000000a736561736f6e5479706500000003524547f07fffffb4f07fffffb496fe1975c31781501d74d08e00f977e80004'"
   ]
  },
  {
   "cell_type": "markdown",
   "id": "50e57d90",
   "metadata": {},
   "source": [
    "#### Then define the Function 'GetPage'"
   ]
  },
  {
   "cell_type": "code",
   "execution_count": 6,
   "id": "53365bb3",
   "metadata": {},
   "outputs": [],
   "source": [
    "def GetPage (URL_page_n):\n",
    "    \"\"\" This function gets the webpage passed to it and pulls out the table of NFL passers shown on it\"\"\"\n",
    "    Page = requests.get(URL_page_n)\n",
    "    Page = bs(Page.content, 'lxml')\n",
    "    Page = Page.find('table',{'class':\"d3-o-table\"})\n",
    "    Page = pd.read_html(str(Page))[0]\n",
    "    return Page"
   ]
  },
  {
   "cell_type": "markdown",
   "id": "9344b1cb",
   "metadata": {},
   "source": [
    "#### Get the 4 pages from the website, and join them vertically into a single dataframe"
   ]
  },
  {
   "cell_type": "code",
   "execution_count": 7,
   "id": "ae0856a2",
   "metadata": {},
   "outputs": [
    {
     "data": {
      "text/plain": [
       "(25, 16)"
      ]
     },
     "execution_count": 7,
     "metadata": {},
     "output_type": "execute_result"
    }
   ],
   "source": [
    "Page1 = GetPage(URL_page1)\n",
    "Page1.shape"
   ]
  },
  {
   "cell_type": "code",
   "execution_count": 8,
   "id": "b5357720",
   "metadata": {},
   "outputs": [
    {
     "data": {
      "text/plain": [
       "(25, 16)"
      ]
     },
     "execution_count": 8,
     "metadata": {},
     "output_type": "execute_result"
    }
   ],
   "source": [
    "Page2 = GetPage(URL_page2)\n",
    "Page2.shape"
   ]
  },
  {
   "cell_type": "code",
   "execution_count": 9,
   "id": "25f10d1a",
   "metadata": {},
   "outputs": [
    {
     "data": {
      "text/plain": [
       "(25, 16)"
      ]
     },
     "execution_count": 9,
     "metadata": {},
     "output_type": "execute_result"
    }
   ],
   "source": [
    "Page3 = GetPage(URL_page3)\n",
    "Page3.shape"
   ]
  },
  {
   "cell_type": "code",
   "execution_count": 10,
   "id": "471e683c",
   "metadata": {},
   "outputs": [
    {
     "data": {
      "text/plain": [
       "(15, 16)"
      ]
     },
     "execution_count": 10,
     "metadata": {},
     "output_type": "execute_result"
    }
   ],
   "source": [
    "Page4 = GetPage(URL_page4)\n",
    "Page4.shape"
   ]
  },
  {
   "cell_type": "code",
   "execution_count": 11,
   "id": "6c670883",
   "metadata": {
    "scrolled": true
   },
   "outputs": [
    {
     "data": {
      "text/plain": [
       "<bound method NDFrame.head of             Player  Pass Yds  Yds/Att  Att  Cmp  Cmp %  TD  INT   Rate  1st  \\\n",
       "0   Jameis Winston      5109      8.2  626  380  0.607  33   30   84.3  243   \n",
       "1     Dak Prescott      4902      8.2  596  388  0.651  30   11   99.7  229   \n",
       "2       Jared Goff      4638      7.4  626  394  0.629  22   16   86.5  220   \n",
       "3    Philip Rivers      4615      7.8  591  390  0.660  23   20   88.5  217   \n",
       "4        Matt Ryan      4466      7.3  616  408  0.662  26   14   92.1  228   \n",
       "..             ...       ...      ...  ...  ...    ...  ..  ...    ...  ...   \n",
       "85  Trevor Siemian         3      0.5    6    3  0.500   0    0   56.3    0   \n",
       "86   Blake Bortles         3      1.5    2    1  0.500   0    0   56.3    0   \n",
       "87   Kenjon Barner         3      3.0    1    1  1.000   0    0   79.2    0   \n",
       "88     Alex Tanney         1      1.0    1    1  1.000   0    0   79.2    0   \n",
       "89      Matt Haack         1      1.0    1    1  1.000   1    0  118.8    1   \n",
       "\n",
       "     1st%  20+  40+  Lng  Sck  SckY  \n",
       "0   0.388   75   13   71   47   282  \n",
       "1   0.384   68   16   62   23   151  \n",
       "2   0.351   72    6   66   22   170  \n",
       "3   0.367   57   12   84   34   222  \n",
       "4   0.370   47    5   93   48   316  \n",
       "..    ...  ...  ...  ...  ...   ...  \n",
       "85  0.000    0    0    3    2    17  \n",
       "86  0.000    0    0    3    0     0  \n",
       "87  0.000    0    0    3    0     0  \n",
       "88  0.000    0    0    1    0     0  \n",
       "89  1.000    0    0    1    0     0  \n",
       "\n",
       "[90 rows x 16 columns]>"
      ]
     },
     "execution_count": 11,
     "metadata": {},
     "output_type": "execute_result"
    }
   ],
   "source": [
    "All_passers_2019 = pd.concat([Page1, Page2, Page3, Page4], ignore_index = True)\n",
    "All_passers_2019.head"
   ]
  },
  {
   "cell_type": "markdown",
   "id": "9fd682a2",
   "metadata": {},
   "source": [
    "#### The shape of the dataframe is 90 rows, so each line has been added to the dataframe correctly. We can check to see if there are any entries missing"
   ]
  },
  {
   "cell_type": "code",
   "execution_count": 12,
   "id": "e957b8ba",
   "metadata": {},
   "outputs": [
    {
     "data": {
      "text/plain": [
       "Player      0\n",
       "Pass Yds    0\n",
       "Yds/Att     0\n",
       "Att         0\n",
       "Cmp         0\n",
       "Cmp %       0\n",
       "TD          0\n",
       "INT         0\n",
       "Rate        0\n",
       "1st         0\n",
       "1st%        0\n",
       "20+         0\n",
       "40+         0\n",
       "Lng         0\n",
       "Sck         0\n",
       "SckY        0\n",
       "dtype: int64"
      ]
     },
     "execution_count": 12,
     "metadata": {},
     "output_type": "execute_result"
    }
   ],
   "source": [
    "All_passers_2019.isnull().sum()"
   ]
  },
  {
   "cell_type": "markdown",
   "id": "3357b140",
   "metadata": {},
   "source": [
    "#### I'm going to create a two new colummns which I am going to use later as a measure of how proficient each Quarterback was in the 2019 Season. \n",
    "\n",
    "1. The number of succesful Touchdowns they threw minus the number of times they were intercepted.\n",
    "2. The number of interceptions they through as a percentage of the total number of attempted throws they made during the season"
   ]
  },
  {
   "cell_type": "code",
   "execution_count": 13,
   "id": "89dcd909",
   "metadata": {
    "scrolled": true
   },
   "outputs": [
    {
     "data": {
      "text/html": [
       "<div>\n",
       "<style scoped>\n",
       "    .dataframe tbody tr th:only-of-type {\n",
       "        vertical-align: middle;\n",
       "    }\n",
       "\n",
       "    .dataframe tbody tr th {\n",
       "        vertical-align: top;\n",
       "    }\n",
       "\n",
       "    .dataframe thead th {\n",
       "        text-align: right;\n",
       "    }\n",
       "</style>\n",
       "<table border=\"1\" class=\"dataframe\">\n",
       "  <thead>\n",
       "    <tr style=\"text-align: right;\">\n",
       "      <th></th>\n",
       "      <th>Player</th>\n",
       "      <th>Pass Yds</th>\n",
       "      <th>Yds/Att</th>\n",
       "      <th>Att</th>\n",
       "      <th>Cmp</th>\n",
       "      <th>Cmp %</th>\n",
       "      <th>TD</th>\n",
       "      <th>INT</th>\n",
       "      <th>Rate</th>\n",
       "      <th>1st</th>\n",
       "      <th>1st%</th>\n",
       "      <th>20+</th>\n",
       "      <th>40+</th>\n",
       "      <th>Lng</th>\n",
       "      <th>Sck</th>\n",
       "      <th>SckY</th>\n",
       "      <th>TD-INT</th>\n",
       "      <th>INT%</th>\n",
       "    </tr>\n",
       "  </thead>\n",
       "  <tbody>\n",
       "    <tr>\n",
       "      <th>0</th>\n",
       "      <td>Jameis Winston</td>\n",
       "      <td>5109</td>\n",
       "      <td>8.2</td>\n",
       "      <td>626</td>\n",
       "      <td>380</td>\n",
       "      <td>0.607</td>\n",
       "      <td>33</td>\n",
       "      <td>30</td>\n",
       "      <td>84.3</td>\n",
       "      <td>243</td>\n",
       "      <td>0.388</td>\n",
       "      <td>75</td>\n",
       "      <td>13</td>\n",
       "      <td>71</td>\n",
       "      <td>47</td>\n",
       "      <td>282</td>\n",
       "      <td>3</td>\n",
       "      <td>0.052716</td>\n",
       "    </tr>\n",
       "    <tr>\n",
       "      <th>1</th>\n",
       "      <td>Dak Prescott</td>\n",
       "      <td>4902</td>\n",
       "      <td>8.2</td>\n",
       "      <td>596</td>\n",
       "      <td>388</td>\n",
       "      <td>0.651</td>\n",
       "      <td>30</td>\n",
       "      <td>11</td>\n",
       "      <td>99.7</td>\n",
       "      <td>229</td>\n",
       "      <td>0.384</td>\n",
       "      <td>68</td>\n",
       "      <td>16</td>\n",
       "      <td>62</td>\n",
       "      <td>23</td>\n",
       "      <td>151</td>\n",
       "      <td>19</td>\n",
       "      <td>0.050336</td>\n",
       "    </tr>\n",
       "    <tr>\n",
       "      <th>2</th>\n",
       "      <td>Jared Goff</td>\n",
       "      <td>4638</td>\n",
       "      <td>7.4</td>\n",
       "      <td>626</td>\n",
       "      <td>394</td>\n",
       "      <td>0.629</td>\n",
       "      <td>22</td>\n",
       "      <td>16</td>\n",
       "      <td>86.5</td>\n",
       "      <td>220</td>\n",
       "      <td>0.351</td>\n",
       "      <td>72</td>\n",
       "      <td>6</td>\n",
       "      <td>66</td>\n",
       "      <td>22</td>\n",
       "      <td>170</td>\n",
       "      <td>6</td>\n",
       "      <td>0.035144</td>\n",
       "    </tr>\n",
       "    <tr>\n",
       "      <th>3</th>\n",
       "      <td>Philip Rivers</td>\n",
       "      <td>4615</td>\n",
       "      <td>7.8</td>\n",
       "      <td>591</td>\n",
       "      <td>390</td>\n",
       "      <td>0.660</td>\n",
       "      <td>23</td>\n",
       "      <td>20</td>\n",
       "      <td>88.5</td>\n",
       "      <td>217</td>\n",
       "      <td>0.367</td>\n",
       "      <td>57</td>\n",
       "      <td>12</td>\n",
       "      <td>84</td>\n",
       "      <td>34</td>\n",
       "      <td>222</td>\n",
       "      <td>3</td>\n",
       "      <td>0.038917</td>\n",
       "    </tr>\n",
       "    <tr>\n",
       "      <th>4</th>\n",
       "      <td>Matt Ryan</td>\n",
       "      <td>4466</td>\n",
       "      <td>7.3</td>\n",
       "      <td>616</td>\n",
       "      <td>408</td>\n",
       "      <td>0.662</td>\n",
       "      <td>26</td>\n",
       "      <td>14</td>\n",
       "      <td>92.1</td>\n",
       "      <td>228</td>\n",
       "      <td>0.370</td>\n",
       "      <td>47</td>\n",
       "      <td>5</td>\n",
       "      <td>93</td>\n",
       "      <td>48</td>\n",
       "      <td>316</td>\n",
       "      <td>12</td>\n",
       "      <td>0.042208</td>\n",
       "    </tr>\n",
       "  </tbody>\n",
       "</table>\n",
       "</div>"
      ],
      "text/plain": [
       "           Player  Pass Yds  Yds/Att  Att  Cmp  Cmp %  TD  INT  Rate  1st  \\\n",
       "0  Jameis Winston      5109      8.2  626  380  0.607  33   30  84.3  243   \n",
       "1    Dak Prescott      4902      8.2  596  388  0.651  30   11  99.7  229   \n",
       "2      Jared Goff      4638      7.4  626  394  0.629  22   16  86.5  220   \n",
       "3   Philip Rivers      4615      7.8  591  390  0.660  23   20  88.5  217   \n",
       "4       Matt Ryan      4466      7.3  616  408  0.662  26   14  92.1  228   \n",
       "\n",
       "    1st%  20+  40+  Lng  Sck  SckY  TD-INT      INT%  \n",
       "0  0.388   75   13   71   47   282       3  0.052716  \n",
       "1  0.384   68   16   62   23   151      19  0.050336  \n",
       "2  0.351   72    6   66   22   170       6  0.035144  \n",
       "3  0.367   57   12   84   34   222       3  0.038917  \n",
       "4  0.370   47    5   93   48   316      12  0.042208  "
      ]
     },
     "execution_count": 13,
     "metadata": {},
     "output_type": "execute_result"
    }
   ],
   "source": [
    "All_passers_2019['TD-INT'] = All_passers_2019['TD'] - All_passers_2019['INT'] # The higher number the better\n",
    "All_passers_2019['INT%'] = All_passers_2019['TD'] / All_passers_2019['Att'] # The lower the % the better\n",
    "All_passers_2019.head()"
   ]
  },
  {
   "cell_type": "markdown",
   "id": "8218835f",
   "metadata": {},
   "source": [
    "#### I am also going to change the name of one of the columns from 'Rate' to 'Rating'. This is the QB rating a mathematical formula we will see later which looks to mathematically quantify how effective a Quarterback is performing. (I think that rate is a bit misleading).\n"
   ]
  },
  {
   "cell_type": "code",
   "execution_count": 14,
   "id": "22fecded",
   "metadata": {},
   "outputs": [],
   "source": [
    "All_passers_2019 = All_passers_2019.rename(columns={'Rate':'Rating'})"
   ]
  },
  {
   "cell_type": "code",
   "execution_count": 15,
   "id": "cee7b8bb",
   "metadata": {
    "scrolled": false
   },
   "outputs": [
    {
     "data": {
      "text/html": [
       "<div>\n",
       "<style scoped>\n",
       "    .dataframe tbody tr th:only-of-type {\n",
       "        vertical-align: middle;\n",
       "    }\n",
       "\n",
       "    .dataframe tbody tr th {\n",
       "        vertical-align: top;\n",
       "    }\n",
       "\n",
       "    .dataframe thead th {\n",
       "        text-align: right;\n",
       "    }\n",
       "</style>\n",
       "<table border=\"1\" class=\"dataframe\">\n",
       "  <thead>\n",
       "    <tr style=\"text-align: right;\">\n",
       "      <th></th>\n",
       "      <th>Player</th>\n",
       "      <th>Pass Yds</th>\n",
       "      <th>Yds/Att</th>\n",
       "      <th>Att</th>\n",
       "      <th>Cmp</th>\n",
       "      <th>Cmp %</th>\n",
       "      <th>TD</th>\n",
       "      <th>INT</th>\n",
       "      <th>Rating</th>\n",
       "      <th>1st</th>\n",
       "      <th>1st%</th>\n",
       "      <th>20+</th>\n",
       "      <th>40+</th>\n",
       "      <th>Lng</th>\n",
       "      <th>Sck</th>\n",
       "      <th>SckY</th>\n",
       "      <th>TD-INT</th>\n",
       "      <th>INT%</th>\n",
       "    </tr>\n",
       "  </thead>\n",
       "  <tbody>\n",
       "    <tr>\n",
       "      <th>0</th>\n",
       "      <td>Jameis Winston</td>\n",
       "      <td>5109</td>\n",
       "      <td>8.2</td>\n",
       "      <td>626</td>\n",
       "      <td>380</td>\n",
       "      <td>0.607</td>\n",
       "      <td>33</td>\n",
       "      <td>30</td>\n",
       "      <td>84.3</td>\n",
       "      <td>243</td>\n",
       "      <td>0.388</td>\n",
       "      <td>75</td>\n",
       "      <td>13</td>\n",
       "      <td>71</td>\n",
       "      <td>47</td>\n",
       "      <td>282</td>\n",
       "      <td>3</td>\n",
       "      <td>0.052716</td>\n",
       "    </tr>\n",
       "    <tr>\n",
       "      <th>1</th>\n",
       "      <td>Dak Prescott</td>\n",
       "      <td>4902</td>\n",
       "      <td>8.2</td>\n",
       "      <td>596</td>\n",
       "      <td>388</td>\n",
       "      <td>0.651</td>\n",
       "      <td>30</td>\n",
       "      <td>11</td>\n",
       "      <td>99.7</td>\n",
       "      <td>229</td>\n",
       "      <td>0.384</td>\n",
       "      <td>68</td>\n",
       "      <td>16</td>\n",
       "      <td>62</td>\n",
       "      <td>23</td>\n",
       "      <td>151</td>\n",
       "      <td>19</td>\n",
       "      <td>0.050336</td>\n",
       "    </tr>\n",
       "    <tr>\n",
       "      <th>2</th>\n",
       "      <td>Jared Goff</td>\n",
       "      <td>4638</td>\n",
       "      <td>7.4</td>\n",
       "      <td>626</td>\n",
       "      <td>394</td>\n",
       "      <td>0.629</td>\n",
       "      <td>22</td>\n",
       "      <td>16</td>\n",
       "      <td>86.5</td>\n",
       "      <td>220</td>\n",
       "      <td>0.351</td>\n",
       "      <td>72</td>\n",
       "      <td>6</td>\n",
       "      <td>66</td>\n",
       "      <td>22</td>\n",
       "      <td>170</td>\n",
       "      <td>6</td>\n",
       "      <td>0.035144</td>\n",
       "    </tr>\n",
       "    <tr>\n",
       "      <th>3</th>\n",
       "      <td>Philip Rivers</td>\n",
       "      <td>4615</td>\n",
       "      <td>7.8</td>\n",
       "      <td>591</td>\n",
       "      <td>390</td>\n",
       "      <td>0.660</td>\n",
       "      <td>23</td>\n",
       "      <td>20</td>\n",
       "      <td>88.5</td>\n",
       "      <td>217</td>\n",
       "      <td>0.367</td>\n",
       "      <td>57</td>\n",
       "      <td>12</td>\n",
       "      <td>84</td>\n",
       "      <td>34</td>\n",
       "      <td>222</td>\n",
       "      <td>3</td>\n",
       "      <td>0.038917</td>\n",
       "    </tr>\n",
       "    <tr>\n",
       "      <th>4</th>\n",
       "      <td>Matt Ryan</td>\n",
       "      <td>4466</td>\n",
       "      <td>7.3</td>\n",
       "      <td>616</td>\n",
       "      <td>408</td>\n",
       "      <td>0.662</td>\n",
       "      <td>26</td>\n",
       "      <td>14</td>\n",
       "      <td>92.1</td>\n",
       "      <td>228</td>\n",
       "      <td>0.370</td>\n",
       "      <td>47</td>\n",
       "      <td>5</td>\n",
       "      <td>93</td>\n",
       "      <td>48</td>\n",
       "      <td>316</td>\n",
       "      <td>12</td>\n",
       "      <td>0.042208</td>\n",
       "    </tr>\n",
       "  </tbody>\n",
       "</table>\n",
       "</div>"
      ],
      "text/plain": [
       "           Player  Pass Yds  Yds/Att  Att  Cmp  Cmp %  TD  INT  Rating  1st  \\\n",
       "0  Jameis Winston      5109      8.2  626  380  0.607  33   30    84.3  243   \n",
       "1    Dak Prescott      4902      8.2  596  388  0.651  30   11    99.7  229   \n",
       "2      Jared Goff      4638      7.4  626  394  0.629  22   16    86.5  220   \n",
       "3   Philip Rivers      4615      7.8  591  390  0.660  23   20    88.5  217   \n",
       "4       Matt Ryan      4466      7.3  616  408  0.662  26   14    92.1  228   \n",
       "\n",
       "    1st%  20+  40+  Lng  Sck  SckY  TD-INT      INT%  \n",
       "0  0.388   75   13   71   47   282       3  0.052716  \n",
       "1  0.384   68   16   62   23   151      19  0.050336  \n",
       "2  0.351   72    6   66   22   170       6  0.035144  \n",
       "3  0.367   57   12   84   34   222       3  0.038917  \n",
       "4  0.370   47    5   93   48   316      12  0.042208  "
      ]
     },
     "execution_count": 15,
     "metadata": {},
     "output_type": "execute_result"
    }
   ],
   "source": [
    "All_passers_2019.head()"
   ]
  },
  {
   "cell_type": "markdown",
   "id": "0f9213e6",
   "metadata": {},
   "source": [
    "\n",
    "#### Next load a CSV file from my local drive that I have previously downloaded from Kaggle.com. I have called this 'combine.csv' and is a record of everyone who went to the draft from 1987 to 2021 and recoreds their combine scores of physical tests that they performed.\n"
   ]
  },
  {
   "cell_type": "code",
   "execution_count": 16,
   "id": "231fc7f1",
   "metadata": {
    "scrolled": true
   },
   "outputs": [
    {
     "name": "stdout",
     "output_type": "stream",
     "text": [
      "   combineId  playerId  combineYear combinePosition  combineHeight  \\\n",
      "0      10000  19870067         1987              CB           69.8   \n",
      "1      10001  19870154         1987               C           74.8   \n",
      "2      10002  19870800         1987              FB           71.8   \n",
      "3      10003  19870121         1987               C           75.0   \n",
      "4      10004  19870801         1987              WR           72.1   \n",
      "\n",
      "   combineWeight  combineHand nameFirst   nameLast         nameFull  ...  \\\n",
      "0            198         8.50   Michael      Adams    Michael Adams  ...   \n",
      "1            266        10.25      John    Adickes     John Adickes  ...   \n",
      "2            217         9.00     Tommy       Agee       Tommy Agee  ...   \n",
      "3            279        10.50     David  Alexander  David Alexander  ...   \n",
      "4            202        10.00    Lyneal     Alston    Lyneal Alston  ...   \n",
      "\n",
      "  hsCountry  combineArm combine40yd combineVert  combineBench  combineShuttle  \\\n",
      "0       NaN       30.50        4.42        32.0          13.0            4.60   \n",
      "1       NaN       30.00        4.97        26.5          25.0            4.60   \n",
      "2       NaN       30.75         NaN         NaN          15.0             NaN   \n",
      "3       NaN       32.75        5.13        27.5          22.0            4.33   \n",
      "4       NaN       33.00        4.64        32.0           7.0            4.52   \n",
      "\n",
      "  combineBroad  combine3cone combine60ydShuttle combineWonderlic  \n",
      "0        118.0           NaN              11.91              NaN  \n",
      "1        103.0           NaN                NaN              NaN  \n",
      "2          NaN           NaN                NaN              NaN  \n",
      "3        105.0           NaN                NaN              NaN  \n",
      "4        114.0           NaN              11.85              NaN  \n",
      "\n",
      "[5 rows x 35 columns]\n"
     ]
    },
    {
     "data": {
      "text/plain": [
       "(10080, 35)"
      ]
     },
     "execution_count": 16,
     "metadata": {},
     "output_type": "execute_result"
    }
   ],
   "source": [
    "Combine_stats = pd.read_csv('/Users/mcheesmore/UCDPA_MarkCheesmore/combine.csv')\n",
    "print(Combine_stats.head())\n",
    "Combine_stats.shape"
   ]
  },
  {
   "cell_type": "markdown",
   "id": "776d392e",
   "metadata": {},
   "source": [
    "#### We can see that this has 10,080 records and 35 Categories, and from below that it is not a very complete dataset and there are many null fields, however we won't use them all."
   ]
  },
  {
   "cell_type": "code",
   "execution_count": 17,
   "id": "fd60fde1",
   "metadata": {},
   "outputs": [
    {
     "data": {
      "text/plain": [
       "combineId                0\n",
       "playerId                 0\n",
       "combineYear              0\n",
       "combinePosition          0\n",
       "combineHeight            0\n",
       "combineWeight            0\n",
       "combineHand           6488\n",
       "nameFirst                2\n",
       "nameLast                 2\n",
       "nameFull                 2\n",
       "position                 3\n",
       "collegeId                2\n",
       "nflId                 1087\n",
       "college                  2\n",
       "heightInches             7\n",
       "weight                   7\n",
       "dob                   1589\n",
       "ageAtDraft            1589\n",
       "playerProfileUrl      1087\n",
       "homeCity              2558\n",
       "homeState             2707\n",
       "homeCountry           2511\n",
       "highSchool            5908\n",
       "hsCity                7753\n",
       "hsState               5923\n",
       "hsCountry             5908\n",
       "combineArm            6803\n",
       "combine40yd           1058\n",
       "combineVert           1619\n",
       "combineBench          2912\n",
       "combineShuttle        2594\n",
       "combineBroad          1769\n",
       "combine3cone          5266\n",
       "combine60ydShuttle    8307\n",
       "combineWonderlic      9715\n",
       "dtype: int64"
      ]
     },
     "execution_count": 17,
     "metadata": {},
     "output_type": "execute_result"
    }
   ],
   "source": [
    "Combine_stats.isnull().sum()"
   ]
  },
  {
   "cell_type": "markdown",
   "id": "1475175a",
   "metadata": {},
   "source": [
    "#### There are a number of columns that i don't want (School/IDs/College etc.) so to reduce the columns i end up with, and to make the final merged Dataframe more manigable i will remove some of these."
   ]
  },
  {
   "cell_type": "code",
   "execution_count": 18,
   "id": "2568c831",
   "metadata": {},
   "outputs": [],
   "source": [
    "Combine_stats.drop(['combineId', 'playerId','nameFirst','nameLast','collegeId','nflId','college','heightInches','weight','playerProfileUrl',\"homeCity\",\"homeState\",'homeCountry', 'highSchool', 'hsCity', 'hsState', 'hsCountry'], axis = 1, inplace=True)"
   ]
  },
  {
   "cell_type": "code",
   "execution_count": 19,
   "id": "07d6fb43",
   "metadata": {
    "scrolled": true
   },
   "outputs": [
    {
     "data": {
      "text/html": [
       "<div>\n",
       "<style scoped>\n",
       "    .dataframe tbody tr th:only-of-type {\n",
       "        vertical-align: middle;\n",
       "    }\n",
       "\n",
       "    .dataframe tbody tr th {\n",
       "        vertical-align: top;\n",
       "    }\n",
       "\n",
       "    .dataframe thead th {\n",
       "        text-align: right;\n",
       "    }\n",
       "</style>\n",
       "<table border=\"1\" class=\"dataframe\">\n",
       "  <thead>\n",
       "    <tr style=\"text-align: right;\">\n",
       "      <th></th>\n",
       "      <th>combineYear</th>\n",
       "      <th>combinePosition</th>\n",
       "      <th>combineHeight</th>\n",
       "      <th>combineWeight</th>\n",
       "      <th>combineHand</th>\n",
       "      <th>nameFull</th>\n",
       "      <th>position</th>\n",
       "      <th>dob</th>\n",
       "      <th>ageAtDraft</th>\n",
       "      <th>combineArm</th>\n",
       "      <th>combine40yd</th>\n",
       "      <th>combineVert</th>\n",
       "      <th>combineBench</th>\n",
       "      <th>combineShuttle</th>\n",
       "      <th>combineBroad</th>\n",
       "      <th>combine3cone</th>\n",
       "      <th>combine60ydShuttle</th>\n",
       "      <th>combineWonderlic</th>\n",
       "    </tr>\n",
       "  </thead>\n",
       "  <tbody>\n",
       "    <tr>\n",
       "      <th>0</th>\n",
       "      <td>1987</td>\n",
       "      <td>CB</td>\n",
       "      <td>69.8</td>\n",
       "      <td>198</td>\n",
       "      <td>8.50</td>\n",
       "      <td>Michael Adams</td>\n",
       "      <td>DB</td>\n",
       "      <td>1964-04-05</td>\n",
       "      <td>23.076712</td>\n",
       "      <td>30.50</td>\n",
       "      <td>4.42</td>\n",
       "      <td>32.0</td>\n",
       "      <td>13.0</td>\n",
       "      <td>4.60</td>\n",
       "      <td>118.0</td>\n",
       "      <td>NaN</td>\n",
       "      <td>11.91</td>\n",
       "      <td>NaN</td>\n",
       "    </tr>\n",
       "    <tr>\n",
       "      <th>1</th>\n",
       "      <td>1987</td>\n",
       "      <td>C</td>\n",
       "      <td>74.8</td>\n",
       "      <td>266</td>\n",
       "      <td>10.25</td>\n",
       "      <td>John Adickes</td>\n",
       "      <td>C</td>\n",
       "      <td>1964-06-29</td>\n",
       "      <td>22.843836</td>\n",
       "      <td>30.00</td>\n",
       "      <td>4.97</td>\n",
       "      <td>26.5</td>\n",
       "      <td>25.0</td>\n",
       "      <td>4.60</td>\n",
       "      <td>103.0</td>\n",
       "      <td>NaN</td>\n",
       "      <td>NaN</td>\n",
       "      <td>NaN</td>\n",
       "    </tr>\n",
       "    <tr>\n",
       "      <th>2</th>\n",
       "      <td>1987</td>\n",
       "      <td>FB</td>\n",
       "      <td>71.8</td>\n",
       "      <td>217</td>\n",
       "      <td>9.00</td>\n",
       "      <td>Tommy Agee</td>\n",
       "      <td>FB</td>\n",
       "      <td>NaN</td>\n",
       "      <td>NaN</td>\n",
       "      <td>30.75</td>\n",
       "      <td>NaN</td>\n",
       "      <td>NaN</td>\n",
       "      <td>15.0</td>\n",
       "      <td>NaN</td>\n",
       "      <td>NaN</td>\n",
       "      <td>NaN</td>\n",
       "      <td>NaN</td>\n",
       "      <td>NaN</td>\n",
       "    </tr>\n",
       "    <tr>\n",
       "      <th>3</th>\n",
       "      <td>1987</td>\n",
       "      <td>C</td>\n",
       "      <td>75.0</td>\n",
       "      <td>279</td>\n",
       "      <td>10.50</td>\n",
       "      <td>David Alexander</td>\n",
       "      <td>C</td>\n",
       "      <td>1964-07-28</td>\n",
       "      <td>22.764384</td>\n",
       "      <td>32.75</td>\n",
       "      <td>5.13</td>\n",
       "      <td>27.5</td>\n",
       "      <td>22.0</td>\n",
       "      <td>4.33</td>\n",
       "      <td>105.0</td>\n",
       "      <td>NaN</td>\n",
       "      <td>NaN</td>\n",
       "      <td>NaN</td>\n",
       "    </tr>\n",
       "    <tr>\n",
       "      <th>4</th>\n",
       "      <td>1987</td>\n",
       "      <td>WR</td>\n",
       "      <td>72.1</td>\n",
       "      <td>202</td>\n",
       "      <td>10.00</td>\n",
       "      <td>Lyneal Alston</td>\n",
       "      <td>WR</td>\n",
       "      <td>1964-07-23</td>\n",
       "      <td>22.778082</td>\n",
       "      <td>33.00</td>\n",
       "      <td>4.64</td>\n",
       "      <td>32.0</td>\n",
       "      <td>7.0</td>\n",
       "      <td>4.52</td>\n",
       "      <td>114.0</td>\n",
       "      <td>NaN</td>\n",
       "      <td>11.85</td>\n",
       "      <td>NaN</td>\n",
       "    </tr>\n",
       "  </tbody>\n",
       "</table>\n",
       "</div>"
      ],
      "text/plain": [
       "   combineYear combinePosition  combineHeight  combineWeight  combineHand  \\\n",
       "0         1987              CB           69.8            198         8.50   \n",
       "1         1987               C           74.8            266        10.25   \n",
       "2         1987              FB           71.8            217         9.00   \n",
       "3         1987               C           75.0            279        10.50   \n",
       "4         1987              WR           72.1            202        10.00   \n",
       "\n",
       "          nameFull position         dob  ageAtDraft  combineArm  combine40yd  \\\n",
       "0    Michael Adams       DB  1964-04-05   23.076712       30.50         4.42   \n",
       "1     John Adickes        C  1964-06-29   22.843836       30.00         4.97   \n",
       "2       Tommy Agee       FB         NaN         NaN       30.75          NaN   \n",
       "3  David Alexander        C  1964-07-28   22.764384       32.75         5.13   \n",
       "4    Lyneal Alston       WR  1964-07-23   22.778082       33.00         4.64   \n",
       "\n",
       "   combineVert  combineBench  combineShuttle  combineBroad  combine3cone  \\\n",
       "0         32.0          13.0            4.60         118.0           NaN   \n",
       "1         26.5          25.0            4.60         103.0           NaN   \n",
       "2          NaN          15.0             NaN           NaN           NaN   \n",
       "3         27.5          22.0            4.33         105.0           NaN   \n",
       "4         32.0           7.0            4.52         114.0           NaN   \n",
       "\n",
       "   combine60ydShuttle  combineWonderlic  \n",
       "0               11.91               NaN  \n",
       "1                 NaN               NaN  \n",
       "2                 NaN               NaN  \n",
       "3                 NaN               NaN  \n",
       "4               11.85               NaN  "
      ]
     },
     "execution_count": 19,
     "metadata": {},
     "output_type": "execute_result"
    }
   ],
   "source": [
    "Combine_stats.head()"
   ]
  },
  {
   "cell_type": "markdown",
   "id": "d4f9d4d1",
   "metadata": {},
   "source": [
    "## Merge the NFL scraped tables to the combine CSV"
   ]
  },
  {
   "cell_type": "code",
   "execution_count": 20,
   "id": "d0f22fb5",
   "metadata": {},
   "outputs": [
    {
     "data": {
      "text/plain": [
       "(93, 36)"
      ]
     },
     "execution_count": 20,
     "metadata": {},
     "output_type": "execute_result"
    }
   ],
   "source": [
    "Passers_and_combine_2019 = All_passers_2019.merge(Combine_stats, how = 'left', left_on='Player', right_on='nameFull')\n",
    "Passers_and_combine_2019.shape"
   ]
  },
  {
   "cell_type": "markdown",
   "id": "737c3c86",
   "metadata": {},
   "source": [
    "#### Clear duplicates - So we have now combined on the players name, but the rows have gone from 90 to 93, so we have 3 duplicates to investigate."
   ]
  },
  {
   "cell_type": "code",
   "execution_count": 21,
   "id": "10143eba",
   "metadata": {},
   "outputs": [
    {
     "data": {
      "text/html": [
       "<div>\n",
       "<style scoped>\n",
       "    .dataframe tbody tr th:only-of-type {\n",
       "        vertical-align: middle;\n",
       "    }\n",
       "\n",
       "    .dataframe tbody tr th {\n",
       "        vertical-align: top;\n",
       "    }\n",
       "\n",
       "    .dataframe thead th {\n",
       "        text-align: right;\n",
       "    }\n",
       "</style>\n",
       "<table border=\"1\" class=\"dataframe\">\n",
       "  <thead>\n",
       "    <tr style=\"text-align: right;\">\n",
       "      <th></th>\n",
       "      <th>Player</th>\n",
       "      <th>Pass Yds</th>\n",
       "      <th>Yds/Att</th>\n",
       "      <th>Att</th>\n",
       "      <th>Cmp</th>\n",
       "      <th>Cmp %</th>\n",
       "      <th>TD</th>\n",
       "      <th>INT</th>\n",
       "      <th>Rating</th>\n",
       "      <th>1st</th>\n",
       "      <th>...</th>\n",
       "      <th>ageAtDraft</th>\n",
       "      <th>combineArm</th>\n",
       "      <th>combine40yd</th>\n",
       "      <th>combineVert</th>\n",
       "      <th>combineBench</th>\n",
       "      <th>combineShuttle</th>\n",
       "      <th>combineBroad</th>\n",
       "      <th>combine3cone</th>\n",
       "      <th>combine60ydShuttle</th>\n",
       "      <th>combineWonderlic</th>\n",
       "    </tr>\n",
       "  </thead>\n",
       "  <tbody>\n",
       "    <tr>\n",
       "      <th>23</th>\n",
       "      <td>Josh Allen</td>\n",
       "      <td>3089</td>\n",
       "      <td>6.7</td>\n",
       "      <td>461</td>\n",
       "      <td>271</td>\n",
       "      <td>0.588</td>\n",
       "      <td>20</td>\n",
       "      <td>9</td>\n",
       "      <td>85.3</td>\n",
       "      <td>146</td>\n",
       "      <td>...</td>\n",
       "      <td>21.805479</td>\n",
       "      <td>NaN</td>\n",
       "      <td>4.63</td>\n",
       "      <td>NaN</td>\n",
       "      <td>28.0</td>\n",
       "      <td>4.23</td>\n",
       "      <td>118.0</td>\n",
       "      <td>7.15</td>\n",
       "      <td>NaN</td>\n",
       "      <td>NaN</td>\n",
       "    </tr>\n",
       "    <tr>\n",
       "      <th>25</th>\n",
       "      <td>Daniel Jones</td>\n",
       "      <td>3027</td>\n",
       "      <td>6.6</td>\n",
       "      <td>459</td>\n",
       "      <td>284</td>\n",
       "      <td>0.619</td>\n",
       "      <td>24</td>\n",
       "      <td>12</td>\n",
       "      <td>87.7</td>\n",
       "      <td>140</td>\n",
       "      <td>...</td>\n",
       "      <td>21.934247</td>\n",
       "      <td>NaN</td>\n",
       "      <td>4.81</td>\n",
       "      <td>33.5</td>\n",
       "      <td>NaN</td>\n",
       "      <td>4.41</td>\n",
       "      <td>120.0</td>\n",
       "      <td>7.00</td>\n",
       "      <td>NaN</td>\n",
       "      <td>NaN</td>\n",
       "    </tr>\n",
       "    <tr>\n",
       "      <th>70</th>\n",
       "      <td>John Brown</td>\n",
       "      <td>28</td>\n",
       "      <td>28.0</td>\n",
       "      <td>1</td>\n",
       "      <td>1</td>\n",
       "      <td>1.000</td>\n",
       "      <td>1</td>\n",
       "      <td>0</td>\n",
       "      <td>158.3</td>\n",
       "      <td>1</td>\n",
       "      <td>...</td>\n",
       "      <td>24.112329</td>\n",
       "      <td>NaN</td>\n",
       "      <td>4.34</td>\n",
       "      <td>36.5</td>\n",
       "      <td>NaN</td>\n",
       "      <td>4.12</td>\n",
       "      <td>117.0</td>\n",
       "      <td>6.91</td>\n",
       "      <td>NaN</td>\n",
       "      <td>NaN</td>\n",
       "    </tr>\n",
       "  </tbody>\n",
       "</table>\n",
       "<p>3 rows × 36 columns</p>\n",
       "</div>"
      ],
      "text/plain": [
       "          Player  Pass Yds  Yds/Att  Att  Cmp  Cmp %  TD  INT  Rating  1st  \\\n",
       "23    Josh Allen      3089      6.7  461  271  0.588  20    9    85.3  146   \n",
       "25  Daniel Jones      3027      6.6  459  284  0.619  24   12    87.7  140   \n",
       "70    John Brown        28     28.0    1    1  1.000   1    0   158.3    1   \n",
       "\n",
       "    ...  ageAtDraft  combineArm  combine40yd  combineVert  combineBench  \\\n",
       "23  ...   21.805479         NaN         4.63          NaN          28.0   \n",
       "25  ...   21.934247         NaN         4.81         33.5           NaN   \n",
       "70  ...   24.112329         NaN         4.34         36.5           NaN   \n",
       "\n",
       "    combineShuttle  combineBroad  combine3cone  combine60ydShuttle  \\\n",
       "23            4.23         118.0          7.15                 NaN   \n",
       "25            4.41         120.0          7.00                 NaN   \n",
       "70            4.12         117.0          6.91                 NaN   \n",
       "\n",
       "   combineWonderlic  \n",
       "23              NaN  \n",
       "25              NaN  \n",
       "70              NaN  \n",
       "\n",
       "[3 rows x 36 columns]"
      ]
     },
     "execution_count": 21,
     "metadata": {},
     "output_type": "execute_result"
    }
   ],
   "source": [
    "Passers_and_combine_2019[Passers_and_combine_2019.duplicated(['Player'])]"
   ]
  },
  {
   "cell_type": "code",
   "execution_count": 22,
   "id": "d75b2054",
   "metadata": {},
   "outputs": [
    {
     "name": "stdout",
     "output_type": "stream",
     "text": [
      "22    QB\n",
      "23    DE\n",
      "Name: position, dtype: object\n"
     ]
    }
   ],
   "source": [
    "print(Passers_and_combine_2019['position'].loc[22:23])"
   ]
  },
  {
   "cell_type": "markdown",
   "id": "ff88823a",
   "metadata": {},
   "source": [
    "#### I can see from this that the second entry is incorrect, Josh Allen is s QB (quarterback) so i need to remove line 23"
   ]
  },
  {
   "cell_type": "code",
   "execution_count": 23,
   "id": "eff84e73",
   "metadata": {},
   "outputs": [],
   "source": [
    "Passers_and_combine_2019 = Passers_and_combine_2019.drop(23)"
   ]
  },
  {
   "cell_type": "code",
   "execution_count": 24,
   "id": "37a9b421",
   "metadata": {},
   "outputs": [
    {
     "data": {
      "text/html": [
       "<div>\n",
       "<style scoped>\n",
       "    .dataframe tbody tr th:only-of-type {\n",
       "        vertical-align: middle;\n",
       "    }\n",
       "\n",
       "    .dataframe tbody tr th {\n",
       "        vertical-align: top;\n",
       "    }\n",
       "\n",
       "    .dataframe thead th {\n",
       "        text-align: right;\n",
       "    }\n",
       "</style>\n",
       "<table border=\"1\" class=\"dataframe\">\n",
       "  <thead>\n",
       "    <tr style=\"text-align: right;\">\n",
       "      <th></th>\n",
       "      <th>Player</th>\n",
       "      <th>Pass Yds</th>\n",
       "      <th>Yds/Att</th>\n",
       "      <th>Att</th>\n",
       "      <th>Cmp</th>\n",
       "      <th>Cmp %</th>\n",
       "      <th>TD</th>\n",
       "      <th>INT</th>\n",
       "      <th>Rating</th>\n",
       "      <th>1st</th>\n",
       "      <th>...</th>\n",
       "      <th>ageAtDraft</th>\n",
       "      <th>combineArm</th>\n",
       "      <th>combine40yd</th>\n",
       "      <th>combineVert</th>\n",
       "      <th>combineBench</th>\n",
       "      <th>combineShuttle</th>\n",
       "      <th>combineBroad</th>\n",
       "      <th>combine3cone</th>\n",
       "      <th>combine60ydShuttle</th>\n",
       "      <th>combineWonderlic</th>\n",
       "    </tr>\n",
       "  </thead>\n",
       "  <tbody>\n",
       "    <tr>\n",
       "      <th>25</th>\n",
       "      <td>Daniel Jones</td>\n",
       "      <td>3027</td>\n",
       "      <td>6.6</td>\n",
       "      <td>459</td>\n",
       "      <td>284</td>\n",
       "      <td>0.619</td>\n",
       "      <td>24</td>\n",
       "      <td>12</td>\n",
       "      <td>87.7</td>\n",
       "      <td>140</td>\n",
       "      <td>...</td>\n",
       "      <td>21.934247</td>\n",
       "      <td>NaN</td>\n",
       "      <td>4.81</td>\n",
       "      <td>33.5</td>\n",
       "      <td>NaN</td>\n",
       "      <td>4.41</td>\n",
       "      <td>120.0</td>\n",
       "      <td>7.00</td>\n",
       "      <td>NaN</td>\n",
       "      <td>NaN</td>\n",
       "    </tr>\n",
       "    <tr>\n",
       "      <th>70</th>\n",
       "      <td>John Brown</td>\n",
       "      <td>28</td>\n",
       "      <td>28.0</td>\n",
       "      <td>1</td>\n",
       "      <td>1</td>\n",
       "      <td>1.000</td>\n",
       "      <td>1</td>\n",
       "      <td>0</td>\n",
       "      <td>158.3</td>\n",
       "      <td>1</td>\n",
       "      <td>...</td>\n",
       "      <td>24.112329</td>\n",
       "      <td>NaN</td>\n",
       "      <td>4.34</td>\n",
       "      <td>36.5</td>\n",
       "      <td>NaN</td>\n",
       "      <td>4.12</td>\n",
       "      <td>117.0</td>\n",
       "      <td>6.91</td>\n",
       "      <td>NaN</td>\n",
       "      <td>NaN</td>\n",
       "    </tr>\n",
       "  </tbody>\n",
       "</table>\n",
       "<p>2 rows × 36 columns</p>\n",
       "</div>"
      ],
      "text/plain": [
       "          Player  Pass Yds  Yds/Att  Att  Cmp  Cmp %  TD  INT  Rating  1st  \\\n",
       "25  Daniel Jones      3027      6.6  459  284  0.619  24   12    87.7  140   \n",
       "70    John Brown        28     28.0    1    1  1.000   1    0   158.3    1   \n",
       "\n",
       "    ...  ageAtDraft  combineArm  combine40yd  combineVert  combineBench  \\\n",
       "25  ...   21.934247         NaN         4.81         33.5           NaN   \n",
       "70  ...   24.112329         NaN         4.34         36.5           NaN   \n",
       "\n",
       "    combineShuttle  combineBroad  combine3cone  combine60ydShuttle  \\\n",
       "25            4.41         120.0          7.00                 NaN   \n",
       "70            4.12         117.0          6.91                 NaN   \n",
       "\n",
       "   combineWonderlic  \n",
       "25              NaN  \n",
       "70              NaN  \n",
       "\n",
       "[2 rows x 36 columns]"
      ]
     },
     "execution_count": 24,
     "metadata": {},
     "output_type": "execute_result"
    }
   ],
   "source": [
    "Passers_and_combine_2019[Passers_and_combine_2019.duplicated(['Player'])]"
   ]
  },
  {
   "cell_type": "code",
   "execution_count": 25,
   "id": "e2c9fc0a",
   "metadata": {},
   "outputs": [
    {
     "name": "stdout",
     "output_type": "stream",
     "text": [
      "24    WR\n",
      "25    QB\n",
      "Name: position, dtype: object\n"
     ]
    }
   ],
   "source": [
    "print(Passers_and_combine_2019['position'].loc[24:25])"
   ]
  },
  {
   "cell_type": "markdown",
   "id": "a16f31ce",
   "metadata": {},
   "source": [
    "#### For Daniel Jones it is the second line (line 25) that needs to be retained (he is also a QB)."
   ]
  },
  {
   "cell_type": "code",
   "execution_count": 26,
   "id": "07427489",
   "metadata": {},
   "outputs": [],
   "source": [
    "Passers_and_combine_2019 = Passers_and_combine_2019.drop(25)"
   ]
  },
  {
   "cell_type": "code",
   "execution_count": 27,
   "id": "ae548b5e",
   "metadata": {},
   "outputs": [
    {
     "data": {
      "text/html": [
       "<div>\n",
       "<style scoped>\n",
       "    .dataframe tbody tr th:only-of-type {\n",
       "        vertical-align: middle;\n",
       "    }\n",
       "\n",
       "    .dataframe tbody tr th {\n",
       "        vertical-align: top;\n",
       "    }\n",
       "\n",
       "    .dataframe thead th {\n",
       "        text-align: right;\n",
       "    }\n",
       "</style>\n",
       "<table border=\"1\" class=\"dataframe\">\n",
       "  <thead>\n",
       "    <tr style=\"text-align: right;\">\n",
       "      <th></th>\n",
       "      <th>Player</th>\n",
       "      <th>Pass Yds</th>\n",
       "      <th>Yds/Att</th>\n",
       "      <th>Att</th>\n",
       "      <th>Cmp</th>\n",
       "      <th>Cmp %</th>\n",
       "      <th>TD</th>\n",
       "      <th>INT</th>\n",
       "      <th>Rating</th>\n",
       "      <th>1st</th>\n",
       "      <th>...</th>\n",
       "      <th>ageAtDraft</th>\n",
       "      <th>combineArm</th>\n",
       "      <th>combine40yd</th>\n",
       "      <th>combineVert</th>\n",
       "      <th>combineBench</th>\n",
       "      <th>combineShuttle</th>\n",
       "      <th>combineBroad</th>\n",
       "      <th>combine3cone</th>\n",
       "      <th>combine60ydShuttle</th>\n",
       "      <th>combineWonderlic</th>\n",
       "    </tr>\n",
       "  </thead>\n",
       "  <tbody>\n",
       "    <tr>\n",
       "      <th>70</th>\n",
       "      <td>John Brown</td>\n",
       "      <td>28</td>\n",
       "      <td>28.0</td>\n",
       "      <td>1</td>\n",
       "      <td>1</td>\n",
       "      <td>1.0</td>\n",
       "      <td>1</td>\n",
       "      <td>0</td>\n",
       "      <td>158.3</td>\n",
       "      <td>1</td>\n",
       "      <td>...</td>\n",
       "      <td>24.112329</td>\n",
       "      <td>NaN</td>\n",
       "      <td>4.34</td>\n",
       "      <td>36.5</td>\n",
       "      <td>NaN</td>\n",
       "      <td>4.12</td>\n",
       "      <td>117.0</td>\n",
       "      <td>6.91</td>\n",
       "      <td>NaN</td>\n",
       "      <td>NaN</td>\n",
       "    </tr>\n",
       "  </tbody>\n",
       "</table>\n",
       "<p>1 rows × 36 columns</p>\n",
       "</div>"
      ],
      "text/plain": [
       "        Player  Pass Yds  Yds/Att  Att  Cmp  Cmp %  TD  INT  Rating  1st  ...  \\\n",
       "70  John Brown        28     28.0    1    1    1.0   1    0   158.3    1  ...   \n",
       "\n",
       "    ageAtDraft  combineArm  combine40yd  combineVert  combineBench  \\\n",
       "70   24.112329         NaN         4.34         36.5           NaN   \n",
       "\n",
       "    combineShuttle  combineBroad  combine3cone  combine60ydShuttle  \\\n",
       "70            4.12         117.0          6.91                 NaN   \n",
       "\n",
       "   combineWonderlic  \n",
       "70              NaN  \n",
       "\n",
       "[1 rows x 36 columns]"
      ]
     },
     "execution_count": 27,
     "metadata": {},
     "output_type": "execute_result"
    }
   ],
   "source": [
    "Passers_and_combine_2019[Passers_and_combine_2019.duplicated(['Player'])]"
   ]
  },
  {
   "cell_type": "code",
   "execution_count": 28,
   "id": "9155af63",
   "metadata": {
    "scrolled": true
   },
   "outputs": [
    {
     "name": "stdout",
     "output_type": "stream",
     "text": [
      "69    WR\n",
      "70    WR\n",
      "Name: position, dtype: object\n"
     ]
    }
   ],
   "source": [
    "print(Passers_and_combine_2019['position'].loc[69:70])"
   ]
  },
  {
   "cell_type": "markdown",
   "id": "66d7f0df",
   "metadata": {},
   "source": [
    "#### I can't tell from this - as John Brown is a wide receiver, so looking at a wider selection of columns"
   ]
  },
  {
   "cell_type": "code",
   "execution_count": 29,
   "id": "8a6edf99",
   "metadata": {},
   "outputs": [
    {
     "name": "stdout",
     "output_type": "stream",
     "text": [
      "        Player  Pass Yds  Yds/Att  Att  Cmp  Cmp %  TD  INT  Rating  1st  ...  \\\n",
      "69  John Brown        28     28.0    1    1    1.0   1    0   158.3    1  ...   \n",
      "70  John Brown        28     28.0    1    1    1.0   1    0   158.3    1  ...   \n",
      "\n",
      "    ageAtDraft  combineArm  combine40yd  combineVert  combineBench  \\\n",
      "69   21.747945        34.5         4.59         35.0           NaN   \n",
      "70   24.112329         NaN         4.34         36.5           NaN   \n",
      "\n",
      "    combineShuttle  combineBroad  combine3cone  combine60ydShuttle  \\\n",
      "69            4.18         127.0           NaN                11.1   \n",
      "70            4.12         117.0          6.91                 NaN   \n",
      "\n",
      "   combineWonderlic  \n",
      "69              NaN  \n",
      "70              NaN  \n",
      "\n",
      "[2 rows x 36 columns]\n"
     ]
    }
   ],
   "source": [
    "print(Passers_and_combine_2019.loc[69:70])"
   ]
  },
  {
   "cell_type": "markdown",
   "id": "2e32524e",
   "metadata": {},
   "source": [
    "#### So WR (wide receivers) do the 60 yd Shuttle, and don't do the combine 3cone, (from googling) so i need to keep line 69 and lose line 70."
   ]
  },
  {
   "cell_type": "code",
   "execution_count": 30,
   "id": "f6eebba7",
   "metadata": {},
   "outputs": [],
   "source": [
    "Passers_and_combine_2019 = Passers_and_combine_2019.drop(70)"
   ]
  },
  {
   "cell_type": "code",
   "execution_count": 31,
   "id": "f9d8dc9e",
   "metadata": {},
   "outputs": [
    {
     "data": {
      "text/html": [
       "<div>\n",
       "<style scoped>\n",
       "    .dataframe tbody tr th:only-of-type {\n",
       "        vertical-align: middle;\n",
       "    }\n",
       "\n",
       "    .dataframe tbody tr th {\n",
       "        vertical-align: top;\n",
       "    }\n",
       "\n",
       "    .dataframe thead th {\n",
       "        text-align: right;\n",
       "    }\n",
       "</style>\n",
       "<table border=\"1\" class=\"dataframe\">\n",
       "  <thead>\n",
       "    <tr style=\"text-align: right;\">\n",
       "      <th></th>\n",
       "      <th>Player</th>\n",
       "      <th>Pass Yds</th>\n",
       "      <th>Yds/Att</th>\n",
       "      <th>Att</th>\n",
       "      <th>Cmp</th>\n",
       "      <th>Cmp %</th>\n",
       "      <th>TD</th>\n",
       "      <th>INT</th>\n",
       "      <th>Rating</th>\n",
       "      <th>1st</th>\n",
       "      <th>...</th>\n",
       "      <th>ageAtDraft</th>\n",
       "      <th>combineArm</th>\n",
       "      <th>combine40yd</th>\n",
       "      <th>combineVert</th>\n",
       "      <th>combineBench</th>\n",
       "      <th>combineShuttle</th>\n",
       "      <th>combineBroad</th>\n",
       "      <th>combine3cone</th>\n",
       "      <th>combine60ydShuttle</th>\n",
       "      <th>combineWonderlic</th>\n",
       "    </tr>\n",
       "  </thead>\n",
       "  <tbody>\n",
       "  </tbody>\n",
       "</table>\n",
       "<p>0 rows × 36 columns</p>\n",
       "</div>"
      ],
      "text/plain": [
       "Empty DataFrame\n",
       "Columns: [Player, Pass Yds, Yds/Att, Att, Cmp, Cmp %, TD, INT, Rating, 1st, 1st%, 20+, 40+, Lng, Sck, SckY, TD-INT, INT%, combineYear, combinePosition, combineHeight, combineWeight, combineHand, nameFull, position, dob, ageAtDraft, combineArm, combine40yd, combineVert, combineBench, combineShuttle, combineBroad, combine3cone, combine60ydShuttle, combineWonderlic]\n",
       "Index: []\n",
       "\n",
       "[0 rows x 36 columns]"
      ]
     },
     "execution_count": 31,
     "metadata": {},
     "output_type": "execute_result"
    }
   ],
   "source": [
    "Passers_and_combine_2019[Passers_and_combine_2019.duplicated(['Player'])]"
   ]
  },
  {
   "cell_type": "code",
   "execution_count": 32,
   "id": "fd5b8556",
   "metadata": {},
   "outputs": [
    {
     "data": {
      "text/html": [
       "<div>\n",
       "<style scoped>\n",
       "    .dataframe tbody tr th:only-of-type {\n",
       "        vertical-align: middle;\n",
       "    }\n",
       "\n",
       "    .dataframe tbody tr th {\n",
       "        vertical-align: top;\n",
       "    }\n",
       "\n",
       "    .dataframe thead th {\n",
       "        text-align: right;\n",
       "    }\n",
       "</style>\n",
       "<table border=\"1\" class=\"dataframe\">\n",
       "  <thead>\n",
       "    <tr style=\"text-align: right;\">\n",
       "      <th></th>\n",
       "      <th>Player</th>\n",
       "      <th>Pass Yds</th>\n",
       "      <th>Yds/Att</th>\n",
       "      <th>Att</th>\n",
       "      <th>Cmp</th>\n",
       "      <th>Cmp %</th>\n",
       "      <th>TD</th>\n",
       "      <th>INT</th>\n",
       "      <th>Rating</th>\n",
       "      <th>1st</th>\n",
       "      <th>...</th>\n",
       "      <th>ageAtDraft</th>\n",
       "      <th>combineArm</th>\n",
       "      <th>combine40yd</th>\n",
       "      <th>combineVert</th>\n",
       "      <th>combineBench</th>\n",
       "      <th>combineShuttle</th>\n",
       "      <th>combineBroad</th>\n",
       "      <th>combine3cone</th>\n",
       "      <th>combine60ydShuttle</th>\n",
       "      <th>combineWonderlic</th>\n",
       "    </tr>\n",
       "  </thead>\n",
       "  <tbody>\n",
       "    <tr>\n",
       "      <th>0</th>\n",
       "      <td>Jameis Winston</td>\n",
       "      <td>5109</td>\n",
       "      <td>8.2</td>\n",
       "      <td>626</td>\n",
       "      <td>380</td>\n",
       "      <td>0.607</td>\n",
       "      <td>33</td>\n",
       "      <td>30</td>\n",
       "      <td>84.3</td>\n",
       "      <td>243</td>\n",
       "      <td>...</td>\n",
       "      <td>21.326027</td>\n",
       "      <td>NaN</td>\n",
       "      <td>4.97</td>\n",
       "      <td>28.5</td>\n",
       "      <td>NaN</td>\n",
       "      <td>4.36</td>\n",
       "      <td>103.0</td>\n",
       "      <td>7.16</td>\n",
       "      <td>NaN</td>\n",
       "      <td>NaN</td>\n",
       "    </tr>\n",
       "    <tr>\n",
       "      <th>1</th>\n",
       "      <td>Dak Prescott</td>\n",
       "      <td>4902</td>\n",
       "      <td>8.2</td>\n",
       "      <td>596</td>\n",
       "      <td>388</td>\n",
       "      <td>0.651</td>\n",
       "      <td>30</td>\n",
       "      <td>11</td>\n",
       "      <td>99.7</td>\n",
       "      <td>229</td>\n",
       "      <td>...</td>\n",
       "      <td>22.764384</td>\n",
       "      <td>NaN</td>\n",
       "      <td>4.79</td>\n",
       "      <td>32.5</td>\n",
       "      <td>NaN</td>\n",
       "      <td>4.32</td>\n",
       "      <td>116.0</td>\n",
       "      <td>7.11</td>\n",
       "      <td>NaN</td>\n",
       "      <td>NaN</td>\n",
       "    </tr>\n",
       "    <tr>\n",
       "      <th>2</th>\n",
       "      <td>Jared Goff</td>\n",
       "      <td>4638</td>\n",
       "      <td>7.4</td>\n",
       "      <td>626</td>\n",
       "      <td>394</td>\n",
       "      <td>0.629</td>\n",
       "      <td>22</td>\n",
       "      <td>16</td>\n",
       "      <td>86.5</td>\n",
       "      <td>220</td>\n",
       "      <td>...</td>\n",
       "      <td>21.553425</td>\n",
       "      <td>NaN</td>\n",
       "      <td>4.82</td>\n",
       "      <td>27.0</td>\n",
       "      <td>NaN</td>\n",
       "      <td>4.47</td>\n",
       "      <td>110.0</td>\n",
       "      <td>7.17</td>\n",
       "      <td>NaN</td>\n",
       "      <td>36.0</td>\n",
       "    </tr>\n",
       "    <tr>\n",
       "      <th>3</th>\n",
       "      <td>Philip Rivers</td>\n",
       "      <td>4615</td>\n",
       "      <td>7.8</td>\n",
       "      <td>591</td>\n",
       "      <td>390</td>\n",
       "      <td>0.660</td>\n",
       "      <td>23</td>\n",
       "      <td>20</td>\n",
       "      <td>88.5</td>\n",
       "      <td>217</td>\n",
       "      <td>...</td>\n",
       "      <td>22.391781</td>\n",
       "      <td>NaN</td>\n",
       "      <td>5.08</td>\n",
       "      <td>NaN</td>\n",
       "      <td>NaN</td>\n",
       "      <td>NaN</td>\n",
       "      <td>NaN</td>\n",
       "      <td>NaN</td>\n",
       "      <td>NaN</td>\n",
       "      <td>30.0</td>\n",
       "    </tr>\n",
       "    <tr>\n",
       "      <th>4</th>\n",
       "      <td>Matt Ryan</td>\n",
       "      <td>4466</td>\n",
       "      <td>7.3</td>\n",
       "      <td>616</td>\n",
       "      <td>408</td>\n",
       "      <td>0.662</td>\n",
       "      <td>26</td>\n",
       "      <td>14</td>\n",
       "      <td>92.1</td>\n",
       "      <td>228</td>\n",
       "      <td>...</td>\n",
       "      <td>22.958904</td>\n",
       "      <td>NaN</td>\n",
       "      <td>4.94</td>\n",
       "      <td>NaN</td>\n",
       "      <td>NaN</td>\n",
       "      <td>4.51</td>\n",
       "      <td>NaN</td>\n",
       "      <td>7.40</td>\n",
       "      <td>NaN</td>\n",
       "      <td>32.0</td>\n",
       "    </tr>\n",
       "    <tr>\n",
       "      <th>...</th>\n",
       "      <td>...</td>\n",
       "      <td>...</td>\n",
       "      <td>...</td>\n",
       "      <td>...</td>\n",
       "      <td>...</td>\n",
       "      <td>...</td>\n",
       "      <td>...</td>\n",
       "      <td>...</td>\n",
       "      <td>...</td>\n",
       "      <td>...</td>\n",
       "      <td>...</td>\n",
       "      <td>...</td>\n",
       "      <td>...</td>\n",
       "      <td>...</td>\n",
       "      <td>...</td>\n",
       "      <td>...</td>\n",
       "      <td>...</td>\n",
       "      <td>...</td>\n",
       "      <td>...</td>\n",
       "      <td>...</td>\n",
       "      <td>...</td>\n",
       "    </tr>\n",
       "    <tr>\n",
       "      <th>88</th>\n",
       "      <td>Trevor Siemian</td>\n",
       "      <td>3</td>\n",
       "      <td>0.5</td>\n",
       "      <td>6</td>\n",
       "      <td>3</td>\n",
       "      <td>0.500</td>\n",
       "      <td>0</td>\n",
       "      <td>0</td>\n",
       "      <td>56.3</td>\n",
       "      <td>0</td>\n",
       "      <td>...</td>\n",
       "      <td>NaN</td>\n",
       "      <td>NaN</td>\n",
       "      <td>NaN</td>\n",
       "      <td>NaN</td>\n",
       "      <td>NaN</td>\n",
       "      <td>NaN</td>\n",
       "      <td>NaN</td>\n",
       "      <td>NaN</td>\n",
       "      <td>NaN</td>\n",
       "      <td>NaN</td>\n",
       "    </tr>\n",
       "    <tr>\n",
       "      <th>89</th>\n",
       "      <td>Blake Bortles</td>\n",
       "      <td>3</td>\n",
       "      <td>1.5</td>\n",
       "      <td>2</td>\n",
       "      <td>1</td>\n",
       "      <td>0.500</td>\n",
       "      <td>0</td>\n",
       "      <td>0</td>\n",
       "      <td>56.3</td>\n",
       "      <td>0</td>\n",
       "      <td>...</td>\n",
       "      <td>22.041096</td>\n",
       "      <td>NaN</td>\n",
       "      <td>4.93</td>\n",
       "      <td>32.5</td>\n",
       "      <td>NaN</td>\n",
       "      <td>4.21</td>\n",
       "      <td>114.0</td>\n",
       "      <td>7.08</td>\n",
       "      <td>NaN</td>\n",
       "      <td>28.0</td>\n",
       "    </tr>\n",
       "    <tr>\n",
       "      <th>90</th>\n",
       "      <td>Kenjon Barner</td>\n",
       "      <td>3</td>\n",
       "      <td>3.0</td>\n",
       "      <td>1</td>\n",
       "      <td>1</td>\n",
       "      <td>1.000</td>\n",
       "      <td>0</td>\n",
       "      <td>0</td>\n",
       "      <td>79.2</td>\n",
       "      <td>0</td>\n",
       "      <td>...</td>\n",
       "      <td>24.008219</td>\n",
       "      <td>NaN</td>\n",
       "      <td>4.52</td>\n",
       "      <td>35.5</td>\n",
       "      <td>20.0</td>\n",
       "      <td>4.20</td>\n",
       "      <td>122.0</td>\n",
       "      <td>6.87</td>\n",
       "      <td>NaN</td>\n",
       "      <td>NaN</td>\n",
       "    </tr>\n",
       "    <tr>\n",
       "      <th>91</th>\n",
       "      <td>Alex Tanney</td>\n",
       "      <td>1</td>\n",
       "      <td>1.0</td>\n",
       "      <td>1</td>\n",
       "      <td>1</td>\n",
       "      <td>1.000</td>\n",
       "      <td>0</td>\n",
       "      <td>0</td>\n",
       "      <td>79.2</td>\n",
       "      <td>0</td>\n",
       "      <td>...</td>\n",
       "      <td>NaN</td>\n",
       "      <td>NaN</td>\n",
       "      <td>NaN</td>\n",
       "      <td>NaN</td>\n",
       "      <td>NaN</td>\n",
       "      <td>NaN</td>\n",
       "      <td>NaN</td>\n",
       "      <td>NaN</td>\n",
       "      <td>NaN</td>\n",
       "      <td>NaN</td>\n",
       "    </tr>\n",
       "    <tr>\n",
       "      <th>92</th>\n",
       "      <td>Matt Haack</td>\n",
       "      <td>1</td>\n",
       "      <td>1.0</td>\n",
       "      <td>1</td>\n",
       "      <td>1</td>\n",
       "      <td>1.000</td>\n",
       "      <td>1</td>\n",
       "      <td>0</td>\n",
       "      <td>118.8</td>\n",
       "      <td>1</td>\n",
       "      <td>...</td>\n",
       "      <td>NaN</td>\n",
       "      <td>NaN</td>\n",
       "      <td>NaN</td>\n",
       "      <td>NaN</td>\n",
       "      <td>NaN</td>\n",
       "      <td>NaN</td>\n",
       "      <td>NaN</td>\n",
       "      <td>NaN</td>\n",
       "      <td>NaN</td>\n",
       "      <td>NaN</td>\n",
       "    </tr>\n",
       "  </tbody>\n",
       "</table>\n",
       "<p>90 rows × 36 columns</p>\n",
       "</div>"
      ],
      "text/plain": [
       "            Player  Pass Yds  Yds/Att  Att  Cmp  Cmp %  TD  INT  Rating  1st  \\\n",
       "0   Jameis Winston      5109      8.2  626  380  0.607  33   30    84.3  243   \n",
       "1     Dak Prescott      4902      8.2  596  388  0.651  30   11    99.7  229   \n",
       "2       Jared Goff      4638      7.4  626  394  0.629  22   16    86.5  220   \n",
       "3    Philip Rivers      4615      7.8  591  390  0.660  23   20    88.5  217   \n",
       "4        Matt Ryan      4466      7.3  616  408  0.662  26   14    92.1  228   \n",
       "..             ...       ...      ...  ...  ...    ...  ..  ...     ...  ...   \n",
       "88  Trevor Siemian         3      0.5    6    3  0.500   0    0    56.3    0   \n",
       "89   Blake Bortles         3      1.5    2    1  0.500   0    0    56.3    0   \n",
       "90   Kenjon Barner         3      3.0    1    1  1.000   0    0    79.2    0   \n",
       "91     Alex Tanney         1      1.0    1    1  1.000   0    0    79.2    0   \n",
       "92      Matt Haack         1      1.0    1    1  1.000   1    0   118.8    1   \n",
       "\n",
       "    ...  ageAtDraft  combineArm  combine40yd  combineVert  combineBench  \\\n",
       "0   ...   21.326027         NaN         4.97         28.5           NaN   \n",
       "1   ...   22.764384         NaN         4.79         32.5           NaN   \n",
       "2   ...   21.553425         NaN         4.82         27.0           NaN   \n",
       "3   ...   22.391781         NaN         5.08          NaN           NaN   \n",
       "4   ...   22.958904         NaN         4.94          NaN           NaN   \n",
       "..  ...         ...         ...          ...          ...           ...   \n",
       "88  ...         NaN         NaN          NaN          NaN           NaN   \n",
       "89  ...   22.041096         NaN         4.93         32.5           NaN   \n",
       "90  ...   24.008219         NaN         4.52         35.5          20.0   \n",
       "91  ...         NaN         NaN          NaN          NaN           NaN   \n",
       "92  ...         NaN         NaN          NaN          NaN           NaN   \n",
       "\n",
       "    combineShuttle  combineBroad  combine3cone  combine60ydShuttle  \\\n",
       "0             4.36         103.0          7.16                 NaN   \n",
       "1             4.32         116.0          7.11                 NaN   \n",
       "2             4.47         110.0          7.17                 NaN   \n",
       "3              NaN           NaN           NaN                 NaN   \n",
       "4             4.51           NaN          7.40                 NaN   \n",
       "..             ...           ...           ...                 ...   \n",
       "88             NaN           NaN           NaN                 NaN   \n",
       "89            4.21         114.0          7.08                 NaN   \n",
       "90            4.20         122.0          6.87                 NaN   \n",
       "91             NaN           NaN           NaN                 NaN   \n",
       "92             NaN           NaN           NaN                 NaN   \n",
       "\n",
       "   combineWonderlic  \n",
       "0               NaN  \n",
       "1               NaN  \n",
       "2              36.0  \n",
       "3              30.0  \n",
       "4              32.0  \n",
       "..              ...  \n",
       "88              NaN  \n",
       "89             28.0  \n",
       "90              NaN  \n",
       "91              NaN  \n",
       "92              NaN  \n",
       "\n",
       "[90 rows x 36 columns]"
      ]
     },
     "execution_count": 32,
     "metadata": {},
     "output_type": "execute_result"
    }
   ],
   "source": [
    "Passers_and_combine_2019"
   ]
  },
  {
   "cell_type": "markdown",
   "id": "03b29be4",
   "metadata": {},
   "source": [
    "#### Reset the Row Index"
   ]
  },
  {
   "cell_type": "code",
   "execution_count": 33,
   "id": "cd8e53ad",
   "metadata": {},
   "outputs": [],
   "source": [
    "Passers_and_combine_2019.reset_index(inplace = True, drop = True)"
   ]
  },
  {
   "cell_type": "code",
   "execution_count": 34,
   "id": "da79f58d",
   "metadata": {
    "scrolled": true
   },
   "outputs": [
    {
     "data": {
      "text/html": [
       "<div>\n",
       "<style scoped>\n",
       "    .dataframe tbody tr th:only-of-type {\n",
       "        vertical-align: middle;\n",
       "    }\n",
       "\n",
       "    .dataframe tbody tr th {\n",
       "        vertical-align: top;\n",
       "    }\n",
       "\n",
       "    .dataframe thead th {\n",
       "        text-align: right;\n",
       "    }\n",
       "</style>\n",
       "<table border=\"1\" class=\"dataframe\">\n",
       "  <thead>\n",
       "    <tr style=\"text-align: right;\">\n",
       "      <th></th>\n",
       "      <th>Player</th>\n",
       "      <th>Pass Yds</th>\n",
       "      <th>Yds/Att</th>\n",
       "      <th>Att</th>\n",
       "      <th>Cmp</th>\n",
       "      <th>Cmp %</th>\n",
       "      <th>TD</th>\n",
       "      <th>INT</th>\n",
       "      <th>Rating</th>\n",
       "      <th>1st</th>\n",
       "      <th>...</th>\n",
       "      <th>ageAtDraft</th>\n",
       "      <th>combineArm</th>\n",
       "      <th>combine40yd</th>\n",
       "      <th>combineVert</th>\n",
       "      <th>combineBench</th>\n",
       "      <th>combineShuttle</th>\n",
       "      <th>combineBroad</th>\n",
       "      <th>combine3cone</th>\n",
       "      <th>combine60ydShuttle</th>\n",
       "      <th>combineWonderlic</th>\n",
       "    </tr>\n",
       "  </thead>\n",
       "  <tbody>\n",
       "    <tr>\n",
       "      <th>0</th>\n",
       "      <td>Jameis Winston</td>\n",
       "      <td>5109</td>\n",
       "      <td>8.2</td>\n",
       "      <td>626</td>\n",
       "      <td>380</td>\n",
       "      <td>0.607</td>\n",
       "      <td>33</td>\n",
       "      <td>30</td>\n",
       "      <td>84.3</td>\n",
       "      <td>243</td>\n",
       "      <td>...</td>\n",
       "      <td>21.326027</td>\n",
       "      <td>NaN</td>\n",
       "      <td>4.97</td>\n",
       "      <td>28.5</td>\n",
       "      <td>NaN</td>\n",
       "      <td>4.36</td>\n",
       "      <td>103.0</td>\n",
       "      <td>7.16</td>\n",
       "      <td>NaN</td>\n",
       "      <td>NaN</td>\n",
       "    </tr>\n",
       "    <tr>\n",
       "      <th>1</th>\n",
       "      <td>Dak Prescott</td>\n",
       "      <td>4902</td>\n",
       "      <td>8.2</td>\n",
       "      <td>596</td>\n",
       "      <td>388</td>\n",
       "      <td>0.651</td>\n",
       "      <td>30</td>\n",
       "      <td>11</td>\n",
       "      <td>99.7</td>\n",
       "      <td>229</td>\n",
       "      <td>...</td>\n",
       "      <td>22.764384</td>\n",
       "      <td>NaN</td>\n",
       "      <td>4.79</td>\n",
       "      <td>32.5</td>\n",
       "      <td>NaN</td>\n",
       "      <td>4.32</td>\n",
       "      <td>116.0</td>\n",
       "      <td>7.11</td>\n",
       "      <td>NaN</td>\n",
       "      <td>NaN</td>\n",
       "    </tr>\n",
       "    <tr>\n",
       "      <th>2</th>\n",
       "      <td>Jared Goff</td>\n",
       "      <td>4638</td>\n",
       "      <td>7.4</td>\n",
       "      <td>626</td>\n",
       "      <td>394</td>\n",
       "      <td>0.629</td>\n",
       "      <td>22</td>\n",
       "      <td>16</td>\n",
       "      <td>86.5</td>\n",
       "      <td>220</td>\n",
       "      <td>...</td>\n",
       "      <td>21.553425</td>\n",
       "      <td>NaN</td>\n",
       "      <td>4.82</td>\n",
       "      <td>27.0</td>\n",
       "      <td>NaN</td>\n",
       "      <td>4.47</td>\n",
       "      <td>110.0</td>\n",
       "      <td>7.17</td>\n",
       "      <td>NaN</td>\n",
       "      <td>36.0</td>\n",
       "    </tr>\n",
       "    <tr>\n",
       "      <th>3</th>\n",
       "      <td>Philip Rivers</td>\n",
       "      <td>4615</td>\n",
       "      <td>7.8</td>\n",
       "      <td>591</td>\n",
       "      <td>390</td>\n",
       "      <td>0.660</td>\n",
       "      <td>23</td>\n",
       "      <td>20</td>\n",
       "      <td>88.5</td>\n",
       "      <td>217</td>\n",
       "      <td>...</td>\n",
       "      <td>22.391781</td>\n",
       "      <td>NaN</td>\n",
       "      <td>5.08</td>\n",
       "      <td>NaN</td>\n",
       "      <td>NaN</td>\n",
       "      <td>NaN</td>\n",
       "      <td>NaN</td>\n",
       "      <td>NaN</td>\n",
       "      <td>NaN</td>\n",
       "      <td>30.0</td>\n",
       "    </tr>\n",
       "    <tr>\n",
       "      <th>4</th>\n",
       "      <td>Matt Ryan</td>\n",
       "      <td>4466</td>\n",
       "      <td>7.3</td>\n",
       "      <td>616</td>\n",
       "      <td>408</td>\n",
       "      <td>0.662</td>\n",
       "      <td>26</td>\n",
       "      <td>14</td>\n",
       "      <td>92.1</td>\n",
       "      <td>228</td>\n",
       "      <td>...</td>\n",
       "      <td>22.958904</td>\n",
       "      <td>NaN</td>\n",
       "      <td>4.94</td>\n",
       "      <td>NaN</td>\n",
       "      <td>NaN</td>\n",
       "      <td>4.51</td>\n",
       "      <td>NaN</td>\n",
       "      <td>7.40</td>\n",
       "      <td>NaN</td>\n",
       "      <td>32.0</td>\n",
       "    </tr>\n",
       "    <tr>\n",
       "      <th>...</th>\n",
       "      <td>...</td>\n",
       "      <td>...</td>\n",
       "      <td>...</td>\n",
       "      <td>...</td>\n",
       "      <td>...</td>\n",
       "      <td>...</td>\n",
       "      <td>...</td>\n",
       "      <td>...</td>\n",
       "      <td>...</td>\n",
       "      <td>...</td>\n",
       "      <td>...</td>\n",
       "      <td>...</td>\n",
       "      <td>...</td>\n",
       "      <td>...</td>\n",
       "      <td>...</td>\n",
       "      <td>...</td>\n",
       "      <td>...</td>\n",
       "      <td>...</td>\n",
       "      <td>...</td>\n",
       "      <td>...</td>\n",
       "      <td>...</td>\n",
       "    </tr>\n",
       "    <tr>\n",
       "      <th>85</th>\n",
       "      <td>Trevor Siemian</td>\n",
       "      <td>3</td>\n",
       "      <td>0.5</td>\n",
       "      <td>6</td>\n",
       "      <td>3</td>\n",
       "      <td>0.500</td>\n",
       "      <td>0</td>\n",
       "      <td>0</td>\n",
       "      <td>56.3</td>\n",
       "      <td>0</td>\n",
       "      <td>...</td>\n",
       "      <td>NaN</td>\n",
       "      <td>NaN</td>\n",
       "      <td>NaN</td>\n",
       "      <td>NaN</td>\n",
       "      <td>NaN</td>\n",
       "      <td>NaN</td>\n",
       "      <td>NaN</td>\n",
       "      <td>NaN</td>\n",
       "      <td>NaN</td>\n",
       "      <td>NaN</td>\n",
       "    </tr>\n",
       "    <tr>\n",
       "      <th>86</th>\n",
       "      <td>Blake Bortles</td>\n",
       "      <td>3</td>\n",
       "      <td>1.5</td>\n",
       "      <td>2</td>\n",
       "      <td>1</td>\n",
       "      <td>0.500</td>\n",
       "      <td>0</td>\n",
       "      <td>0</td>\n",
       "      <td>56.3</td>\n",
       "      <td>0</td>\n",
       "      <td>...</td>\n",
       "      <td>22.041096</td>\n",
       "      <td>NaN</td>\n",
       "      <td>4.93</td>\n",
       "      <td>32.5</td>\n",
       "      <td>NaN</td>\n",
       "      <td>4.21</td>\n",
       "      <td>114.0</td>\n",
       "      <td>7.08</td>\n",
       "      <td>NaN</td>\n",
       "      <td>28.0</td>\n",
       "    </tr>\n",
       "    <tr>\n",
       "      <th>87</th>\n",
       "      <td>Kenjon Barner</td>\n",
       "      <td>3</td>\n",
       "      <td>3.0</td>\n",
       "      <td>1</td>\n",
       "      <td>1</td>\n",
       "      <td>1.000</td>\n",
       "      <td>0</td>\n",
       "      <td>0</td>\n",
       "      <td>79.2</td>\n",
       "      <td>0</td>\n",
       "      <td>...</td>\n",
       "      <td>24.008219</td>\n",
       "      <td>NaN</td>\n",
       "      <td>4.52</td>\n",
       "      <td>35.5</td>\n",
       "      <td>20.0</td>\n",
       "      <td>4.20</td>\n",
       "      <td>122.0</td>\n",
       "      <td>6.87</td>\n",
       "      <td>NaN</td>\n",
       "      <td>NaN</td>\n",
       "    </tr>\n",
       "    <tr>\n",
       "      <th>88</th>\n",
       "      <td>Alex Tanney</td>\n",
       "      <td>1</td>\n",
       "      <td>1.0</td>\n",
       "      <td>1</td>\n",
       "      <td>1</td>\n",
       "      <td>1.000</td>\n",
       "      <td>0</td>\n",
       "      <td>0</td>\n",
       "      <td>79.2</td>\n",
       "      <td>0</td>\n",
       "      <td>...</td>\n",
       "      <td>NaN</td>\n",
       "      <td>NaN</td>\n",
       "      <td>NaN</td>\n",
       "      <td>NaN</td>\n",
       "      <td>NaN</td>\n",
       "      <td>NaN</td>\n",
       "      <td>NaN</td>\n",
       "      <td>NaN</td>\n",
       "      <td>NaN</td>\n",
       "      <td>NaN</td>\n",
       "    </tr>\n",
       "    <tr>\n",
       "      <th>89</th>\n",
       "      <td>Matt Haack</td>\n",
       "      <td>1</td>\n",
       "      <td>1.0</td>\n",
       "      <td>1</td>\n",
       "      <td>1</td>\n",
       "      <td>1.000</td>\n",
       "      <td>1</td>\n",
       "      <td>0</td>\n",
       "      <td>118.8</td>\n",
       "      <td>1</td>\n",
       "      <td>...</td>\n",
       "      <td>NaN</td>\n",
       "      <td>NaN</td>\n",
       "      <td>NaN</td>\n",
       "      <td>NaN</td>\n",
       "      <td>NaN</td>\n",
       "      <td>NaN</td>\n",
       "      <td>NaN</td>\n",
       "      <td>NaN</td>\n",
       "      <td>NaN</td>\n",
       "      <td>NaN</td>\n",
       "    </tr>\n",
       "  </tbody>\n",
       "</table>\n",
       "<p>90 rows × 36 columns</p>\n",
       "</div>"
      ],
      "text/plain": [
       "            Player  Pass Yds  Yds/Att  Att  Cmp  Cmp %  TD  INT  Rating  1st  \\\n",
       "0   Jameis Winston      5109      8.2  626  380  0.607  33   30    84.3  243   \n",
       "1     Dak Prescott      4902      8.2  596  388  0.651  30   11    99.7  229   \n",
       "2       Jared Goff      4638      7.4  626  394  0.629  22   16    86.5  220   \n",
       "3    Philip Rivers      4615      7.8  591  390  0.660  23   20    88.5  217   \n",
       "4        Matt Ryan      4466      7.3  616  408  0.662  26   14    92.1  228   \n",
       "..             ...       ...      ...  ...  ...    ...  ..  ...     ...  ...   \n",
       "85  Trevor Siemian         3      0.5    6    3  0.500   0    0    56.3    0   \n",
       "86   Blake Bortles         3      1.5    2    1  0.500   0    0    56.3    0   \n",
       "87   Kenjon Barner         3      3.0    1    1  1.000   0    0    79.2    0   \n",
       "88     Alex Tanney         1      1.0    1    1  1.000   0    0    79.2    0   \n",
       "89      Matt Haack         1      1.0    1    1  1.000   1    0   118.8    1   \n",
       "\n",
       "    ...  ageAtDraft  combineArm  combine40yd  combineVert  combineBench  \\\n",
       "0   ...   21.326027         NaN         4.97         28.5           NaN   \n",
       "1   ...   22.764384         NaN         4.79         32.5           NaN   \n",
       "2   ...   21.553425         NaN         4.82         27.0           NaN   \n",
       "3   ...   22.391781         NaN         5.08          NaN           NaN   \n",
       "4   ...   22.958904         NaN         4.94          NaN           NaN   \n",
       "..  ...         ...         ...          ...          ...           ...   \n",
       "85  ...         NaN         NaN          NaN          NaN           NaN   \n",
       "86  ...   22.041096         NaN         4.93         32.5           NaN   \n",
       "87  ...   24.008219         NaN         4.52         35.5          20.0   \n",
       "88  ...         NaN         NaN          NaN          NaN           NaN   \n",
       "89  ...         NaN         NaN          NaN          NaN           NaN   \n",
       "\n",
       "    combineShuttle  combineBroad  combine3cone  combine60ydShuttle  \\\n",
       "0             4.36         103.0          7.16                 NaN   \n",
       "1             4.32         116.0          7.11                 NaN   \n",
       "2             4.47         110.0          7.17                 NaN   \n",
       "3              NaN           NaN           NaN                 NaN   \n",
       "4             4.51           NaN          7.40                 NaN   \n",
       "..             ...           ...           ...                 ...   \n",
       "85             NaN           NaN           NaN                 NaN   \n",
       "86            4.21         114.0          7.08                 NaN   \n",
       "87            4.20         122.0          6.87                 NaN   \n",
       "88             NaN           NaN           NaN                 NaN   \n",
       "89             NaN           NaN           NaN                 NaN   \n",
       "\n",
       "   combineWonderlic  \n",
       "0               NaN  \n",
       "1               NaN  \n",
       "2              36.0  \n",
       "3              30.0  \n",
       "4              32.0  \n",
       "..              ...  \n",
       "85              NaN  \n",
       "86             28.0  \n",
       "87              NaN  \n",
       "88              NaN  \n",
       "89              NaN  \n",
       "\n",
       "[90 rows x 36 columns]"
      ]
     },
     "execution_count": 34,
     "metadata": {},
     "output_type": "execute_result"
    }
   ],
   "source": [
    "Passers_and_combine_2019"
   ]
  },
  {
   "cell_type": "markdown",
   "id": "55b32c31",
   "metadata": {},
   "source": [
    "#### Creating a new column of Experience which reflects the number of years the Quaterbacks have been active in the NFL"
   ]
  },
  {
   "cell_type": "code",
   "execution_count": 35,
   "id": "d1a2ec4d",
   "metadata": {},
   "outputs": [],
   "source": [
    "Passers_and_combine_2019['Experience'] = 2019 - Passers_and_combine_2019['combineYear']"
   ]
  },
  {
   "cell_type": "code",
   "execution_count": 36,
   "id": "02cf2bd2",
   "metadata": {},
   "outputs": [
    {
     "data": {
      "text/plain": [
       "Player                 0\n",
       "Pass Yds               0\n",
       "Yds/Att                0\n",
       "Att                    0\n",
       "Cmp                    0\n",
       "Cmp %                  0\n",
       "TD                     0\n",
       "INT                    0\n",
       "Rating                 0\n",
       "1st                    0\n",
       "1st%                   0\n",
       "20+                    0\n",
       "40+                    0\n",
       "Lng                    0\n",
       "Sck                    0\n",
       "SckY                   0\n",
       "TD-INT                 0\n",
       "INT%                   0\n",
       "combineYear           22\n",
       "combinePosition       22\n",
       "combineHeight         22\n",
       "combineWeight         22\n",
       "combineHand           89\n",
       "nameFull              22\n",
       "position              22\n",
       "dob                   23\n",
       "ageAtDraft            23\n",
       "combineArm            89\n",
       "combine40yd           27\n",
       "combineVert           32\n",
       "combineBench          82\n",
       "combineShuttle        37\n",
       "combineBroad          34\n",
       "combine3cone          41\n",
       "combine60ydShuttle    89\n",
       "combineWonderlic      59\n",
       "Experience            22\n",
       "dtype: int64"
      ]
     },
     "execution_count": 36,
     "metadata": {},
     "output_type": "execute_result"
    }
   ],
   "source": [
    "Passers_and_combine_2019.isnull().sum()"
   ]
  },
  {
   "cell_type": "markdown",
   "id": "7cb7d08a",
   "metadata": {},
   "source": [
    "### Now my original Passers list contained anyone who threw a forwrad pass in the regular season, this is predominanetly quaterbacks, but on trick plays, Wide receivers, Running backs and Kickers also throw the ball forward."
   ]
  },
  {
   "cell_type": "code",
   "execution_count": 37,
   "id": "a1ba308c",
   "metadata": {},
   "outputs": [
    {
     "data": {
      "text/plain": [
       "position\n",
       "QB    57\n",
       "RB     3\n",
       "TE     1\n",
       "WR     7\n",
       "Name: position, dtype: int64"
      ]
     },
     "execution_count": 37,
     "metadata": {},
     "output_type": "execute_result"
    }
   ],
   "source": [
    "Passers_and_combine_2019.groupby(['position'])['position'].count()"
   ]
  },
  {
   "cell_type": "markdown",
   "id": "99768797",
   "metadata": {},
   "source": [
    "#### And we can see they distort the overall picture, and that QBs don't do some of the tests, like the bench press"
   ]
  },
  {
   "cell_type": "code",
   "execution_count": 38,
   "id": "a884678c",
   "metadata": {},
   "outputs": [
    {
     "data": {
      "text/html": [
       "<div>\n",
       "<style scoped>\n",
       "    .dataframe tbody tr th:only-of-type {\n",
       "        vertical-align: middle;\n",
       "    }\n",
       "\n",
       "    .dataframe tbody tr th {\n",
       "        vertical-align: top;\n",
       "    }\n",
       "\n",
       "    .dataframe thead th {\n",
       "        text-align: right;\n",
       "    }\n",
       "</style>\n",
       "<table border=\"1\" class=\"dataframe\">\n",
       "  <thead>\n",
       "    <tr style=\"text-align: right;\">\n",
       "      <th></th>\n",
       "      <th>min</th>\n",
       "      <th>max</th>\n",
       "      <th>mean</th>\n",
       "    </tr>\n",
       "    <tr>\n",
       "      <th>position</th>\n",
       "      <th></th>\n",
       "      <th></th>\n",
       "      <th></th>\n",
       "    </tr>\n",
       "  </thead>\n",
       "  <tbody>\n",
       "    <tr>\n",
       "      <th>QB</th>\n",
       "      <td>2</td>\n",
       "      <td>626</td>\n",
       "      <td>287.192982</td>\n",
       "    </tr>\n",
       "    <tr>\n",
       "      <th>RB</th>\n",
       "      <td>1</td>\n",
       "      <td>1</td>\n",
       "      <td>1.000000</td>\n",
       "    </tr>\n",
       "    <tr>\n",
       "      <th>TE</th>\n",
       "      <td>5</td>\n",
       "      <td>5</td>\n",
       "      <td>5.000000</td>\n",
       "    </tr>\n",
       "    <tr>\n",
       "      <th>WR</th>\n",
       "      <td>1</td>\n",
       "      <td>459</td>\n",
       "      <td>66.714286</td>\n",
       "    </tr>\n",
       "  </tbody>\n",
       "</table>\n",
       "</div>"
      ],
      "text/plain": [
       "          min  max        mean\n",
       "position                      \n",
       "QB          2  626  287.192982\n",
       "RB          1    1    1.000000\n",
       "TE          5    5    5.000000\n",
       "WR          1  459   66.714286"
      ]
     },
     "execution_count": 38,
     "metadata": {},
     "output_type": "execute_result"
    }
   ],
   "source": [
    "Passers_and_combine_2019.groupby('position')['Att'].agg([min,max,'mean'])"
   ]
  },
  {
   "cell_type": "code",
   "execution_count": 39,
   "id": "c4db0fb3",
   "metadata": {},
   "outputs": [
    {
     "data": {
      "text/html": [
       "<div>\n",
       "<style scoped>\n",
       "    .dataframe tbody tr th:only-of-type {\n",
       "        vertical-align: middle;\n",
       "    }\n",
       "\n",
       "    .dataframe tbody tr th {\n",
       "        vertical-align: top;\n",
       "    }\n",
       "\n",
       "    .dataframe thead th {\n",
       "        text-align: right;\n",
       "    }\n",
       "</style>\n",
       "<table border=\"1\" class=\"dataframe\">\n",
       "  <thead>\n",
       "    <tr style=\"text-align: right;\">\n",
       "      <th></th>\n",
       "      <th>min</th>\n",
       "      <th>max</th>\n",
       "      <th>mean</th>\n",
       "    </tr>\n",
       "    <tr>\n",
       "      <th>position</th>\n",
       "      <th></th>\n",
       "      <th></th>\n",
       "      <th></th>\n",
       "    </tr>\n",
       "  </thead>\n",
       "  <tbody>\n",
       "    <tr>\n",
       "      <th>QB</th>\n",
       "      <td>NaN</td>\n",
       "      <td>NaN</td>\n",
       "      <td>NaN</td>\n",
       "    </tr>\n",
       "    <tr>\n",
       "      <th>RB</th>\n",
       "      <td>15.0</td>\n",
       "      <td>23.0</td>\n",
       "      <td>19.333333</td>\n",
       "    </tr>\n",
       "    <tr>\n",
       "      <th>TE</th>\n",
       "      <td>18.0</td>\n",
       "      <td>18.0</td>\n",
       "      <td>18.000000</td>\n",
       "    </tr>\n",
       "    <tr>\n",
       "      <th>WR</th>\n",
       "      <td>10.0</td>\n",
       "      <td>18.0</td>\n",
       "      <td>13.750000</td>\n",
       "    </tr>\n",
       "  </tbody>\n",
       "</table>\n",
       "</div>"
      ],
      "text/plain": [
       "           min   max       mean\n",
       "position                       \n",
       "QB         NaN   NaN        NaN\n",
       "RB        15.0  23.0  19.333333\n",
       "TE        18.0  18.0  18.000000\n",
       "WR        10.0  18.0  13.750000"
      ]
     },
     "execution_count": 39,
     "metadata": {},
     "output_type": "execute_result"
    }
   ],
   "source": [
    "Passers_and_combine_2019.groupby('position')['combineBench'].agg([min,max,'mean'])"
   ]
  },
  {
   "cell_type": "markdown",
   "id": "7188918a",
   "metadata": {},
   "source": [
    "#### So lets remove the non-QB passers from the dataframe"
   ]
  },
  {
   "cell_type": "code",
   "execution_count": 40,
   "id": "24c067e4",
   "metadata": {},
   "outputs": [],
   "source": [
    "QB_combine_2019 = Passers_and_combine_2019[Passers_and_combine_2019['position'].isin(['QB'])]"
   ]
  },
  {
   "cell_type": "code",
   "execution_count": 41,
   "id": "a3d22c04",
   "metadata": {},
   "outputs": [
    {
     "data": {
      "text/plain": [
       "(57, 37)"
      ]
     },
     "execution_count": 41,
     "metadata": {},
     "output_type": "execute_result"
    }
   ],
   "source": [
    "QB_combine_2019.shape"
   ]
  },
  {
   "cell_type": "code",
   "execution_count": 42,
   "id": "54a9b49b",
   "metadata": {},
   "outputs": [
    {
     "data": {
      "text/plain": [
       "Player                 0\n",
       "Pass Yds               0\n",
       "Yds/Att                0\n",
       "Att                    0\n",
       "Cmp                    0\n",
       "Cmp %                  0\n",
       "TD                     0\n",
       "INT                    0\n",
       "Rating                 0\n",
       "1st                    0\n",
       "1st%                   0\n",
       "20+                    0\n",
       "40+                    0\n",
       "Lng                    0\n",
       "Sck                    0\n",
       "SckY                   0\n",
       "TD-INT                 0\n",
       "INT%                   0\n",
       "combineYear            0\n",
       "combinePosition        0\n",
       "combineHeight          0\n",
       "combineWeight          0\n",
       "combineHand           57\n",
       "nameFull               0\n",
       "position               0\n",
       "dob                    0\n",
       "ageAtDraft             0\n",
       "combineArm            57\n",
       "combine40yd            4\n",
       "combineVert            9\n",
       "combineBench          57\n",
       "combineShuttle        14\n",
       "combineBroad          11\n",
       "combine3cone          15\n",
       "combine60ydShuttle    57\n",
       "combineWonderlic      27\n",
       "Experience             0\n",
       "dtype: int64"
      ]
     },
     "execution_count": 42,
     "metadata": {},
     "output_type": "execute_result"
    }
   ],
   "source": [
    "QB_combine_2019.isnull().sum()"
   ]
  },
  {
   "cell_type": "markdown",
   "id": "43f45682",
   "metadata": {},
   "source": [
    "#### and remove the columns which have no values"
   ]
  },
  {
   "cell_type": "code",
   "execution_count": 43,
   "id": "415efd94",
   "metadata": {},
   "outputs": [],
   "source": [
    "QB_combine_2019_reduced = QB_combine_2019.dropna(how='all', axis='columns')"
   ]
  },
  {
   "cell_type": "code",
   "execution_count": 44,
   "id": "12caa86a",
   "metadata": {},
   "outputs": [
    {
     "data": {
      "text/plain": [
       "(57, 33)"
      ]
     },
     "execution_count": 44,
     "metadata": {},
     "output_type": "execute_result"
    }
   ],
   "source": [
    " QB_combine_2019_reduced.shape"
   ]
  },
  {
   "cell_type": "markdown",
   "id": "0c047960",
   "metadata": {},
   "source": [
    "## Now we can start looking for correlations and relationships within the merged dataset"
   ]
  },
  {
   "cell_type": "code",
   "execution_count": 45,
   "id": "af49418d",
   "metadata": {},
   "outputs": [],
   "source": [
    "Significant = QB_combine_2019_reduced.corr()"
   ]
  },
  {
   "cell_type": "code",
   "execution_count": 46,
   "id": "77ec2d44",
   "metadata": {},
   "outputs": [
    {
     "data": {
      "text/plain": [
       "<AxesSubplot:>"
      ]
     },
     "execution_count": 46,
     "metadata": {},
     "output_type": "execute_result"
    },
    {
     "data": {
      "image/png": "[encoded data removed]",
      "text/plain": [
       "<Figure size 576x396 with 2 Axes>"
      ]
     },
     "metadata": {},
     "output_type": "display_data"
    }
   ],
   "source": [
    "sns.heatmap(Significant)"
   ]
  },
  {
   "cell_type": "code",
   "execution_count": 47,
   "id": "ac81e912",
   "metadata": {
    "scrolled": true
   },
   "outputs": [
    {
     "data": {
      "text/plain": [
       "<AxesSubplot:xlabel='combine40yd', ylabel='Count'>"
      ]
     },
     "execution_count": 47,
     "metadata": {},
     "output_type": "execute_result"
    },
    {
     "data": {
      "image/png": "[encoded data removed]",
      "text/plain": [
       "<Figure size 576x396 with 1 Axes>"
      ]
     },
     "metadata": {},
     "output_type": "display_data"
    }
   ],
   "source": [
    "sns.histplot(data=QB_combine_2019_reduced, x=\"combine40yd\", bins=12, kde=True)"
   ]
  },
  {
   "cell_type": "code",
   "execution_count": 48,
   "id": "6dc62616",
   "metadata": {},
   "outputs": [
    {
     "data": {
      "text/plain": [
       "<AxesSubplot:xlabel='combineShuttle', ylabel='Count'>"
      ]
     },
     "execution_count": 48,
     "metadata": {},
     "output_type": "execute_result"
    },
    {
     "data": {
      "image/png": "[encoded data removed]",
      "text/plain": [
       "<Figure size 576x396 with 1 Axes>"
      ]
     },
     "metadata": {},
     "output_type": "display_data"
    }
   ],
   "source": [
    "sns.histplot(data=QB_combine_2019_reduced, x=\"combineShuttle\", bins=8, kde=True)"
   ]
  },
  {
   "cell_type": "code",
   "execution_count": 49,
   "id": "9c4e2a41",
   "metadata": {},
   "outputs": [
    {
     "data": {
      "text/plain": [
       "<AxesSubplot:xlabel='TD-INT', ylabel='Rating'>"
      ]
     },
     "execution_count": 49,
     "metadata": {},
     "output_type": "execute_result"
    },
    {
     "data": {
      "image/png": "[encoded data removed]",
      "text/plain": [
       "<Figure size 576x396 with 1 Axes>"
      ]
     },
     "metadata": {},
     "output_type": "display_data"
    }
   ],
   "source": [
    "sns.scatterplot(y=\"Rating\",x='TD-INT', data = QB_combine_2019_reduced)"
   ]
  },
  {
   "cell_type": "code",
   "execution_count": 50,
   "id": "3cb30bd0",
   "metadata": {},
   "outputs": [
    {
     "name": "stdout",
     "output_type": "stream",
     "text": [
      "Worst is.. 4.94\n",
      "Best is.. 4.73\n",
      "mean25 is.. 4.82754716981132\n"
     ]
    }
   ],
   "source": [
    "Worst_40yd = QB_combine_2019_reduced['combine40yd'].quantile(q=0.75)\n",
    "Best_40yd = QB_combine_2019_reduced['combine40yd'].quantile(q=0.25)\n",
    "Mean_40yd = QB_combine_2019_reduced['combine40yd'].mean()\n",
    "print('Worst is..', Worst_40yd)\n",
    "print('Best is..', Best_40yd)\n",
    "print('mean25 is..', Mean_40yd)"
   ]
  },
  {
   "cell_type": "code",
   "execution_count": 51,
   "id": "4edc0711",
   "metadata": {},
   "outputs": [],
   "source": [
    "pd.set_option('mode.chained_assignment', None) #sorry about this, i understand the issue but couldn't fix it\n",
    "QB_combine_2019_reduced['40 yard dash'] = 'Other'\n",
    "QB_combine_2019_reduced.loc[QB_combine_2019_reduced['combine40yd'] < Best_40yd, '40 yard dash'] = 'Top 25%'"
   ]
  },
  {
   "cell_type": "code",
   "execution_count": 52,
   "id": "d59ed0cc",
   "metadata": {},
   "outputs": [
    {
     "data": {
      "text/html": [
       "<div>\n",
       "<style scoped>\n",
       "    .dataframe tbody tr th:only-of-type {\n",
       "        vertical-align: middle;\n",
       "    }\n",
       "\n",
       "    .dataframe tbody tr th {\n",
       "        vertical-align: top;\n",
       "    }\n",
       "\n",
       "    .dataframe thead th {\n",
       "        text-align: right;\n",
       "    }\n",
       "</style>\n",
       "<table border=\"1\" class=\"dataframe\">\n",
       "  <thead>\n",
       "    <tr style=\"text-align: right;\">\n",
       "      <th></th>\n",
       "      <th>Player</th>\n",
       "      <th>Pass Yds</th>\n",
       "      <th>Yds/Att</th>\n",
       "      <th>Att</th>\n",
       "      <th>Cmp</th>\n",
       "      <th>Cmp %</th>\n",
       "      <th>TD</th>\n",
       "      <th>INT</th>\n",
       "      <th>Rating</th>\n",
       "      <th>1st</th>\n",
       "      <th>...</th>\n",
       "      <th>dob</th>\n",
       "      <th>ageAtDraft</th>\n",
       "      <th>combine40yd</th>\n",
       "      <th>combineVert</th>\n",
       "      <th>combineShuttle</th>\n",
       "      <th>combineBroad</th>\n",
       "      <th>combine3cone</th>\n",
       "      <th>combineWonderlic</th>\n",
       "      <th>Experience</th>\n",
       "      <th>40 yard dash</th>\n",
       "    </tr>\n",
       "  </thead>\n",
       "  <tbody>\n",
       "    <tr>\n",
       "      <th>0</th>\n",
       "      <td>Jameis Winston</td>\n",
       "      <td>5109</td>\n",
       "      <td>8.2</td>\n",
       "      <td>626</td>\n",
       "      <td>380</td>\n",
       "      <td>0.607</td>\n",
       "      <td>33</td>\n",
       "      <td>30</td>\n",
       "      <td>84.3</td>\n",
       "      <td>243</td>\n",
       "      <td>...</td>\n",
       "      <td>1994-01-06</td>\n",
       "      <td>21.326027</td>\n",
       "      <td>4.97</td>\n",
       "      <td>28.5</td>\n",
       "      <td>4.36</td>\n",
       "      <td>103.0</td>\n",
       "      <td>7.16</td>\n",
       "      <td>NaN</td>\n",
       "      <td>4.0</td>\n",
       "      <td>Other</td>\n",
       "    </tr>\n",
       "    <tr>\n",
       "      <th>1</th>\n",
       "      <td>Dak Prescott</td>\n",
       "      <td>4902</td>\n",
       "      <td>8.2</td>\n",
       "      <td>596</td>\n",
       "      <td>388</td>\n",
       "      <td>0.651</td>\n",
       "      <td>30</td>\n",
       "      <td>11</td>\n",
       "      <td>99.7</td>\n",
       "      <td>229</td>\n",
       "      <td>...</td>\n",
       "      <td>1993-07-29</td>\n",
       "      <td>22.764384</td>\n",
       "      <td>4.79</td>\n",
       "      <td>32.5</td>\n",
       "      <td>4.32</td>\n",
       "      <td>116.0</td>\n",
       "      <td>7.11</td>\n",
       "      <td>NaN</td>\n",
       "      <td>3.0</td>\n",
       "      <td>Other</td>\n",
       "    </tr>\n",
       "    <tr>\n",
       "      <th>2</th>\n",
       "      <td>Jared Goff</td>\n",
       "      <td>4638</td>\n",
       "      <td>7.4</td>\n",
       "      <td>626</td>\n",
       "      <td>394</td>\n",
       "      <td>0.629</td>\n",
       "      <td>22</td>\n",
       "      <td>16</td>\n",
       "      <td>86.5</td>\n",
       "      <td>220</td>\n",
       "      <td>...</td>\n",
       "      <td>1994-10-14</td>\n",
       "      <td>21.553425</td>\n",
       "      <td>4.82</td>\n",
       "      <td>27.0</td>\n",
       "      <td>4.47</td>\n",
       "      <td>110.0</td>\n",
       "      <td>7.17</td>\n",
       "      <td>36.0</td>\n",
       "      <td>3.0</td>\n",
       "      <td>Other</td>\n",
       "    </tr>\n",
       "    <tr>\n",
       "      <th>3</th>\n",
       "      <td>Philip Rivers</td>\n",
       "      <td>4615</td>\n",
       "      <td>7.8</td>\n",
       "      <td>591</td>\n",
       "      <td>390</td>\n",
       "      <td>0.660</td>\n",
       "      <td>23</td>\n",
       "      <td>20</td>\n",
       "      <td>88.5</td>\n",
       "      <td>217</td>\n",
       "      <td>...</td>\n",
       "      <td>1981-12-08</td>\n",
       "      <td>22.391781</td>\n",
       "      <td>5.08</td>\n",
       "      <td>NaN</td>\n",
       "      <td>NaN</td>\n",
       "      <td>NaN</td>\n",
       "      <td>NaN</td>\n",
       "      <td>30.0</td>\n",
       "      <td>15.0</td>\n",
       "      <td>Other</td>\n",
       "    </tr>\n",
       "    <tr>\n",
       "      <th>4</th>\n",
       "      <td>Matt Ryan</td>\n",
       "      <td>4466</td>\n",
       "      <td>7.3</td>\n",
       "      <td>616</td>\n",
       "      <td>408</td>\n",
       "      <td>0.662</td>\n",
       "      <td>26</td>\n",
       "      <td>14</td>\n",
       "      <td>92.1</td>\n",
       "      <td>228</td>\n",
       "      <td>...</td>\n",
       "      <td>1985-05-17</td>\n",
       "      <td>22.958904</td>\n",
       "      <td>4.94</td>\n",
       "      <td>NaN</td>\n",
       "      <td>4.51</td>\n",
       "      <td>NaN</td>\n",
       "      <td>7.40</td>\n",
       "      <td>32.0</td>\n",
       "      <td>11.0</td>\n",
       "      <td>Other</td>\n",
       "    </tr>\n",
       "  </tbody>\n",
       "</table>\n",
       "<p>5 rows × 34 columns</p>\n",
       "</div>"
      ],
      "text/plain": [
       "           Player  Pass Yds  Yds/Att  Att  Cmp  Cmp %  TD  INT  Rating  1st  \\\n",
       "0  Jameis Winston      5109      8.2  626  380  0.607  33   30    84.3  243   \n",
       "1    Dak Prescott      4902      8.2  596  388  0.651  30   11    99.7  229   \n",
       "2      Jared Goff      4638      7.4  626  394  0.629  22   16    86.5  220   \n",
       "3   Philip Rivers      4615      7.8  591  390  0.660  23   20    88.5  217   \n",
       "4       Matt Ryan      4466      7.3  616  408  0.662  26   14    92.1  228   \n",
       "\n",
       "   ...         dob  ageAtDraft  combine40yd  combineVert  combineShuttle  \\\n",
       "0  ...  1994-01-06   21.326027         4.97         28.5            4.36   \n",
       "1  ...  1993-07-29   22.764384         4.79         32.5            4.32   \n",
       "2  ...  1994-10-14   21.553425         4.82         27.0            4.47   \n",
       "3  ...  1981-12-08   22.391781         5.08          NaN             NaN   \n",
       "4  ...  1985-05-17   22.958904         4.94          NaN            4.51   \n",
       "\n",
       "   combineBroad  combine3cone  combineWonderlic  Experience 40 yard dash  \n",
       "0         103.0          7.16               NaN         4.0        Other  \n",
       "1         116.0          7.11               NaN         3.0        Other  \n",
       "2         110.0          7.17              36.0         3.0        Other  \n",
       "3           NaN           NaN              30.0        15.0        Other  \n",
       "4           NaN          7.40              32.0        11.0        Other  \n",
       "\n",
       "[5 rows x 34 columns]"
      ]
     },
     "execution_count": 52,
     "metadata": {},
     "output_type": "execute_result"
    }
   ],
   "source": [
    "QB_combine_2019_reduced.head()"
   ]
  },
  {
   "cell_type": "code",
   "execution_count": 53,
   "id": "5ff75080",
   "metadata": {},
   "outputs": [
    {
     "data": {
      "text/plain": [
       "<AxesSubplot:xlabel='TD-INT', ylabel='Rating'>"
      ]
     },
     "execution_count": 53,
     "metadata": {},
     "output_type": "execute_result"
    },
    {
     "data": {
      "image/png": "[encoded data removed]",
      "text/plain": [
       "<Figure size 576x396 with 1 Axes>"
      ]
     },
     "metadata": {},
     "output_type": "display_data"
    }
   ],
   "source": [
    "sns.scatterplot(y=\"Rating\",x='TD-INT', data = QB_combine_2019_reduced, hue='40 yard dash',palette=\"husl\", style ='40 yard dash')"
   ]
  },
  {
   "cell_type": "code",
   "execution_count": 54,
   "id": "48589eee",
   "metadata": {},
   "outputs": [
    {
     "name": "stdout",
     "output_type": "stream",
     "text": [
      "Worst is.. 4.395\n",
      "Best is.. 4.2\n",
      "mean25 is.. 4.285813953488373\n"
     ]
    }
   ],
   "source": [
    "Worst_Shuttle = QB_combine_2019_reduced['combineShuttle'].quantile(q=0.75)\n",
    "Best_Shuttle = QB_combine_2019_reduced['combineShuttle'].quantile(q=0.25)\n",
    "Mean_Shuttle = QB_combine_2019_reduced['combineShuttle'].mean()\n",
    "print('Worst is..', Worst_Shuttle)\n",
    "print('Best is..', Best_Shuttle)\n",
    "print('mean25 is..', Mean_Shuttle)"
   ]
  },
  {
   "cell_type": "code",
   "execution_count": 55,
   "id": "d5eec680",
   "metadata": {},
   "outputs": [],
   "source": [
    "QB_combine_2019_reduced['Shuttle'] = 'Other'\n",
    "QB_combine_2019_reduced.loc[QB_combine_2019_reduced['combineShuttle'] < Best_Shuttle, 'Shuttle'] = 'Top 25%'"
   ]
  },
  {
   "cell_type": "code",
   "execution_count": 56,
   "id": "bd04a9fb",
   "metadata": {
    "scrolled": false
   },
   "outputs": [
    {
     "data": {
      "text/plain": [
       "<AxesSubplot:xlabel='TD-INT', ylabel='Rating'>"
      ]
     },
     "execution_count": 56,
     "metadata": {},
     "output_type": "execute_result"
    },
    {
     "data": {
      "image/png": "[encoded data removed]",
      "text/plain": [
       "<Figure size 576x396 with 1 Axes>"
      ]
     },
     "metadata": {},
     "output_type": "display_data"
    }
   ],
   "source": [
    "sns.scatterplot(y=\"Rating\",x='TD-INT', data = QB_combine_2019_reduced, hue='Shuttle', palette=\"husl\", style='Shuttle')"
   ]
  },
  {
   "cell_type": "code",
   "execution_count": 57,
   "id": "6bbc88e8",
   "metadata": {},
   "outputs": [
    {
     "data": {
      "text/plain": [
       "<AxesSubplot:xlabel='TD-INT', ylabel='Rating'>"
      ]
     },
     "execution_count": 57,
     "metadata": {},
     "output_type": "execute_result"
    },
    {
     "data": {
      "image/png": "[encoded data removed]",
      "text/plain": [
       "<Figure size 576x396 with 1 Axes>"
      ]
     },
     "metadata": {},
     "output_type": "display_data"
    }
   ],
   "source": [
    "sns.scatterplot(y=\"Rating\",x='TD-INT', data = QB_combine_2019_reduced, hue='combineHeight')"
   ]
  },
  {
   "cell_type": "code",
   "execution_count": 58,
   "id": "173a3aff",
   "metadata": {},
   "outputs": [
    {
     "name": "stdout",
     "output_type": "stream",
     "text": [
      "Oldest 25% is.. 9.0\n",
      "Youngest 25%.. 2.0\n",
      "Average age of the QBs in 209 was.. 4.82754716981132\n"
     ]
    }
   ],
   "source": [
    "Oldest = QB_combine_2019_reduced['Experience'].quantile(q=0.75)\n",
    "Youngest = QB_combine_2019_reduced['Experience'].quantile(q=0.25)\n",
    "AverageAge = QB_combine_2019_reduced['Experience'].mean()\n",
    "print('Oldest 25% is..', Oldest)\n",
    "print('Youngest 25%..', Youngest)\n",
    "print('Average age of the QBs in 209 was..', Mean_40yd)"
   ]
  },
  {
   "cell_type": "code",
   "execution_count": 59,
   "id": "9f5633d5",
   "metadata": {},
   "outputs": [
    {
     "data": {
      "text/plain": [
       "<AxesSubplot:xlabel='Experience', ylabel='Count'>"
      ]
     },
     "execution_count": 59,
     "metadata": {},
     "output_type": "execute_result"
    },
    {
     "data": {
      "image/png": "[encoded data removed]",
      "text/plain": [
       "<Figure size 576x396 with 1 Axes>"
      ]
     },
     "metadata": {},
     "output_type": "display_data"
    }
   ],
   "source": [
    "sns.histplot(data=QB_combine_2019_reduced, x=\"Experience\", bins=10, kde=True)"
   ]
  }
 ],
 "metadata": {
  "kernelspec": {
   "display_name": "Python 3",
   "language": "python",
   "name": "python3"
  },
  "language_info": {
   "codemirror_mode": {
    "name": "ipython",
    "version": 3
   },
   "file_extension": ".py",
   "mimetype": "text/x-python",
   "name": "python",
   "nbconvert_exporter": "python",
   "pygments_lexer": "ipython3",
   "version": "3.8.8"
  }
 },
 "nbformat": 4,
 "nbformat_minor": 5
}
